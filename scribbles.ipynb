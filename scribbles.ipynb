{
 "cells": [
  {
   "cell_type": "code",
   "execution_count": 154,
   "metadata": {},
   "outputs": [],
   "source": [
    "import pickle\n",
    "from utils import *\n",
    "with open('df.pickle', 'rb') as dffile:\n",
    "        df,variables_each_country = pickle.load(dffile)\n"
   ]
  },
  {
   "cell_type": "code",
   "execution_count": 155,
   "metadata": {},
   "outputs": [
    {
     "name": "stdout",
     "output_type": "stream",
     "text": [
      "['2020-02-20' '2020-04-09' '2020-06-11' '2020-07-16' '2020-09-17'\n",
      " '2020-10-22' '2020-11-26' '2020-12-10']\n"
     ]
    }
   ],
   "source": [
    "import pandas as pd\n",
    "fifa_ranking = pd.read_csv('fifa_ranking-2022-10-06.csv')\n",
    "fifa_ranking = fifa_ranking.drop(columns = ['total_points', 'previous_points', 'rank_change', 'confederation', 'country_full']).reset_index()\n",
    "\n",
    "# get the 2020 ranking\n",
    "fifa_ranking = fifa_ranking[fifa_ranking['rank_date'].str.contains('2020') == True]\n",
    "print(fifa_ranking['rank_date'].unique())\n",
    "fifa_ranking = fifa_ranking[fifa_ranking['rank_date'] == '2020-04-09']\n",
    "fifa_ranking = fifa_ranking.sort_values(by='rank').reset_index()\n",
    "fifa_ranking = fifa_ranking.drop(columns = ['level_0', 'index'])"
   ]
  },
  {
   "cell_type": "code",
   "execution_count": 156,
   "metadata": {},
   "outputs": [
    {
     "data": {
      "text/html": [
       "<div>\n",
       "<style scoped>\n",
       "    .dataframe tbody tr th:only-of-type {\n",
       "        vertical-align: middle;\n",
       "    }\n",
       "\n",
       "    .dataframe tbody tr th {\n",
       "        vertical-align: top;\n",
       "    }\n",
       "\n",
       "    .dataframe thead th {\n",
       "        text-align: right;\n",
       "    }\n",
       "</style>\n",
       "<table border=\"1\" class=\"dataframe\">\n",
       "  <thead>\n",
       "    <tr style=\"text-align: right;\">\n",
       "      <th></th>\n",
       "      <th>iso_code</th>\n",
       "      <th>continent</th>\n",
       "      <th>location</th>\n",
       "      <th>date</th>\n",
       "      <th>tests_units</th>\n",
       "      <th>total_cases</th>\n",
       "      <th>new_cases</th>\n",
       "      <th>new_cases_smoothed</th>\n",
       "      <th>total_deaths</th>\n",
       "      <th>new_deaths</th>\n",
       "      <th>...</th>\n",
       "      <th>excess_mortality</th>\n",
       "      <th>excess_mortality_cumulative_per_million</th>\n",
       "      <th>icu_patients</th>\n",
       "      <th>icu_patients_per_million</th>\n",
       "      <th>hosp_patients</th>\n",
       "      <th>hosp_patients_per_million</th>\n",
       "      <th>weekly_hosp_admissions</th>\n",
       "      <th>weekly_hosp_admissions_per_million</th>\n",
       "      <th>weekly_icu_admissions</th>\n",
       "      <th>weekly_icu_admissions_per_million</th>\n",
       "    </tr>\n",
       "  </thead>\n",
       "  <tbody>\n",
       "    <tr>\n",
       "      <th>45</th>\n",
       "      <td>AFG</td>\n",
       "      <td>Asia</td>\n",
       "      <td>Afghanistan</td>\n",
       "      <td>2020-04-09</td>\n",
       "      <td>NaN</td>\n",
       "      <td>444.0</td>\n",
       "      <td>21.0</td>\n",
       "      <td>29.857</td>\n",
       "      <td>15.0</td>\n",
       "      <td>1.0</td>\n",
       "      <td>...</td>\n",
       "      <td>NaN</td>\n",
       "      <td>NaN</td>\n",
       "      <td>NaN</td>\n",
       "      <td>NaN</td>\n",
       "      <td>NaN</td>\n",
       "      <td>NaN</td>\n",
       "      <td>NaN</td>\n",
       "      <td>NaN</td>\n",
       "      <td>NaN</td>\n",
       "      <td>NaN</td>\n",
       "    </tr>\n",
       "    <tr>\n",
       "      <th>2075</th>\n",
       "      <td>ALB</td>\n",
       "      <td>Europe</td>\n",
       "      <td>Albania</td>\n",
       "      <td>2020-04-09</td>\n",
       "      <td>tests performed</td>\n",
       "      <td>409.0</td>\n",
       "      <td>9.0</td>\n",
       "      <td>18.857</td>\n",
       "      <td>23.0</td>\n",
       "      <td>1.0</td>\n",
       "      <td>...</td>\n",
       "      <td>1.31</td>\n",
       "      <td>-58.051210</td>\n",
       "      <td>NaN</td>\n",
       "      <td>NaN</td>\n",
       "      <td>NaN</td>\n",
       "      <td>NaN</td>\n",
       "      <td>NaN</td>\n",
       "      <td>NaN</td>\n",
       "      <td>NaN</td>\n",
       "      <td>NaN</td>\n",
       "    </tr>\n",
       "    <tr>\n",
       "      <th>3084</th>\n",
       "      <td>DZA</td>\n",
       "      <td>Africa</td>\n",
       "      <td>Algeria</td>\n",
       "      <td>2020-04-09</td>\n",
       "      <td>NaN</td>\n",
       "      <td>1666.0</td>\n",
       "      <td>94.0</td>\n",
       "      <td>97.143</td>\n",
       "      <td>235.0</td>\n",
       "      <td>30.0</td>\n",
       "      <td>...</td>\n",
       "      <td>0.30</td>\n",
       "      <td>-10.883405</td>\n",
       "      <td>0.0</td>\n",
       "      <td>0.0</td>\n",
       "      <td>NaN</td>\n",
       "      <td>NaN</td>\n",
       "      <td>NaN</td>\n",
       "      <td>NaN</td>\n",
       "      <td>NaN</td>\n",
       "      <td>NaN</td>\n",
       "    </tr>\n",
       "    <tr>\n",
       "      <th>4087</th>\n",
       "      <td>AND</td>\n",
       "      <td>Europe</td>\n",
       "      <td>Andorra</td>\n",
       "      <td>2020-04-09</td>\n",
       "      <td>NaN</td>\n",
       "      <td>583.0</td>\n",
       "      <td>19.0</td>\n",
       "      <td>22.143</td>\n",
       "      <td>25.0</td>\n",
       "      <td>2.0</td>\n",
       "      <td>...</td>\n",
       "      <td>23.46</td>\n",
       "      <td>200.393272</td>\n",
       "      <td>NaN</td>\n",
       "      <td>NaN</td>\n",
       "      <td>NaN</td>\n",
       "      <td>NaN</td>\n",
       "      <td>NaN</td>\n",
       "      <td>NaN</td>\n",
       "      <td>NaN</td>\n",
       "      <td>NaN</td>\n",
       "    </tr>\n",
       "    <tr>\n",
       "      <th>5072</th>\n",
       "      <td>AGO</td>\n",
       "      <td>Africa</td>\n",
       "      <td>Angola</td>\n",
       "      <td>2020-04-09</td>\n",
       "      <td>NaN</td>\n",
       "      <td>19.0</td>\n",
       "      <td>0.0</td>\n",
       "      <td>1.571</td>\n",
       "      <td>2.0</td>\n",
       "      <td>0.0</td>\n",
       "      <td>...</td>\n",
       "      <td>NaN</td>\n",
       "      <td>NaN</td>\n",
       "      <td>NaN</td>\n",
       "      <td>NaN</td>\n",
       "      <td>NaN</td>\n",
       "      <td>NaN</td>\n",
       "      <td>NaN</td>\n",
       "      <td>NaN</td>\n",
       "      <td>NaN</td>\n",
       "      <td>NaN</td>\n",
       "    </tr>\n",
       "    <tr>\n",
       "      <th>...</th>\n",
       "      <td>...</td>\n",
       "      <td>...</td>\n",
       "      <td>...</td>\n",
       "      <td>...</td>\n",
       "      <td>...</td>\n",
       "      <td>...</td>\n",
       "      <td>...</td>\n",
       "      <td>...</td>\n",
       "      <td>...</td>\n",
       "      <td>...</td>\n",
       "      <td>...</td>\n",
       "      <td>...</td>\n",
       "      <td>...</td>\n",
       "      <td>...</td>\n",
       "      <td>...</td>\n",
       "      <td>...</td>\n",
       "      <td>...</td>\n",
       "      <td>...</td>\n",
       "      <td>...</td>\n",
       "      <td>...</td>\n",
       "      <td>...</td>\n",
       "    </tr>\n",
       "    <tr>\n",
       "      <th>229978</th>\n",
       "      <td>VAT</td>\n",
       "      <td>Europe</td>\n",
       "      <td>Vatican</td>\n",
       "      <td>2020-04-09</td>\n",
       "      <td>NaN</td>\n",
       "      <td>8.0</td>\n",
       "      <td>0.0</td>\n",
       "      <td>0.143</td>\n",
       "      <td>NaN</td>\n",
       "      <td>NaN</td>\n",
       "      <td>...</td>\n",
       "      <td>NaN</td>\n",
       "      <td>NaN</td>\n",
       "      <td>NaN</td>\n",
       "      <td>NaN</td>\n",
       "      <td>NaN</td>\n",
       "      <td>NaN</td>\n",
       "      <td>NaN</td>\n",
       "      <td>NaN</td>\n",
       "      <td>NaN</td>\n",
       "      <td>NaN</td>\n",
       "    </tr>\n",
       "    <tr>\n",
       "      <th>230969</th>\n",
       "      <td>VEN</td>\n",
       "      <td>South America</td>\n",
       "      <td>Venezuela</td>\n",
       "      <td>2020-04-09</td>\n",
       "      <td>NaN</td>\n",
       "      <td>171.0</td>\n",
       "      <td>4.0</td>\n",
       "      <td>3.571</td>\n",
       "      <td>9.0</td>\n",
       "      <td>0.0</td>\n",
       "      <td>...</td>\n",
       "      <td>NaN</td>\n",
       "      <td>NaN</td>\n",
       "      <td>NaN</td>\n",
       "      <td>NaN</td>\n",
       "      <td>NaN</td>\n",
       "      <td>NaN</td>\n",
       "      <td>NaN</td>\n",
       "      <td>NaN</td>\n",
       "      <td>NaN</td>\n",
       "      <td>NaN</td>\n",
       "    </tr>\n",
       "    <tr>\n",
       "      <th>232011</th>\n",
       "      <td>VNM</td>\n",
       "      <td>Asia</td>\n",
       "      <td>Vietnam</td>\n",
       "      <td>2020-04-09</td>\n",
       "      <td>NaN</td>\n",
       "      <td>255.0</td>\n",
       "      <td>4.0</td>\n",
       "      <td>3.143</td>\n",
       "      <td>0.0</td>\n",
       "      <td>0.0</td>\n",
       "      <td>...</td>\n",
       "      <td>NaN</td>\n",
       "      <td>NaN</td>\n",
       "      <td>NaN</td>\n",
       "      <td>NaN</td>\n",
       "      <td>NaN</td>\n",
       "      <td>NaN</td>\n",
       "      <td>NaN</td>\n",
       "      <td>NaN</td>\n",
       "      <td>NaN</td>\n",
       "      <td>NaN</td>\n",
       "    </tr>\n",
       "    <tr>\n",
       "      <th>236753</th>\n",
       "      <td>ZMB</td>\n",
       "      <td>Africa</td>\n",
       "      <td>Zambia</td>\n",
       "      <td>2020-04-09</td>\n",
       "      <td>tests performed</td>\n",
       "      <td>39.0</td>\n",
       "      <td>0.0</td>\n",
       "      <td>0.000</td>\n",
       "      <td>1.0</td>\n",
       "      <td>0.0</td>\n",
       "      <td>...</td>\n",
       "      <td>NaN</td>\n",
       "      <td>NaN</td>\n",
       "      <td>NaN</td>\n",
       "      <td>NaN</td>\n",
       "      <td>NaN</td>\n",
       "      <td>NaN</td>\n",
       "      <td>NaN</td>\n",
       "      <td>NaN</td>\n",
       "      <td>NaN</td>\n",
       "      <td>NaN</td>\n",
       "    </tr>\n",
       "    <tr>\n",
       "      <th>237738</th>\n",
       "      <td>ZWE</td>\n",
       "      <td>Africa</td>\n",
       "      <td>Zimbabwe</td>\n",
       "      <td>2020-04-09</td>\n",
       "      <td>NaN</td>\n",
       "      <td>11.0</td>\n",
       "      <td>0.0</td>\n",
       "      <td>0.286</td>\n",
       "      <td>3.0</td>\n",
       "      <td>0.0</td>\n",
       "      <td>...</td>\n",
       "      <td>NaN</td>\n",
       "      <td>NaN</td>\n",
       "      <td>NaN</td>\n",
       "      <td>NaN</td>\n",
       "      <td>NaN</td>\n",
       "      <td>NaN</td>\n",
       "      <td>NaN</td>\n",
       "      <td>NaN</td>\n",
       "      <td>NaN</td>\n",
       "      <td>NaN</td>\n",
       "    </tr>\n",
       "  </tbody>\n",
       "</table>\n",
       "<p>204 rows × 67 columns</p>\n",
       "</div>"
      ],
      "text/plain": [
       "       iso_code      continent     location        date      tests_units  \\\n",
       "45          AFG           Asia  Afghanistan  2020-04-09              NaN   \n",
       "2075        ALB         Europe      Albania  2020-04-09  tests performed   \n",
       "3084        DZA         Africa      Algeria  2020-04-09              NaN   \n",
       "4087        AND         Europe      Andorra  2020-04-09              NaN   \n",
       "5072        AGO         Africa       Angola  2020-04-09              NaN   \n",
       "...         ...            ...          ...         ...              ...   \n",
       "229978      VAT         Europe      Vatican  2020-04-09              NaN   \n",
       "230969      VEN  South America    Venezuela  2020-04-09              NaN   \n",
       "232011      VNM           Asia      Vietnam  2020-04-09              NaN   \n",
       "236753      ZMB         Africa       Zambia  2020-04-09  tests performed   \n",
       "237738      ZWE         Africa     Zimbabwe  2020-04-09              NaN   \n",
       "\n",
       "        total_cases  new_cases  new_cases_smoothed  total_deaths  new_deaths  \\\n",
       "45            444.0       21.0              29.857          15.0         1.0   \n",
       "2075          409.0        9.0              18.857          23.0         1.0   \n",
       "3084         1666.0       94.0              97.143         235.0        30.0   \n",
       "4087          583.0       19.0              22.143          25.0         2.0   \n",
       "5072           19.0        0.0               1.571           2.0         0.0   \n",
       "...             ...        ...                 ...           ...         ...   \n",
       "229978          8.0        0.0               0.143           NaN         NaN   \n",
       "230969        171.0        4.0               3.571           9.0         0.0   \n",
       "232011        255.0        4.0               3.143           0.0         0.0   \n",
       "236753         39.0        0.0               0.000           1.0         0.0   \n",
       "237738         11.0        0.0               0.286           3.0         0.0   \n",
       "\n",
       "        ...  excess_mortality  excess_mortality_cumulative_per_million  \\\n",
       "45      ...               NaN                                      NaN   \n",
       "2075    ...              1.31                               -58.051210   \n",
       "3084    ...              0.30                               -10.883405   \n",
       "4087    ...             23.46                               200.393272   \n",
       "5072    ...               NaN                                      NaN   \n",
       "...     ...               ...                                      ...   \n",
       "229978  ...               NaN                                      NaN   \n",
       "230969  ...               NaN                                      NaN   \n",
       "232011  ...               NaN                                      NaN   \n",
       "236753  ...               NaN                                      NaN   \n",
       "237738  ...               NaN                                      NaN   \n",
       "\n",
       "        icu_patients  icu_patients_per_million  hosp_patients  \\\n",
       "45               NaN                       NaN            NaN   \n",
       "2075             NaN                       NaN            NaN   \n",
       "3084             0.0                       0.0            NaN   \n",
       "4087             NaN                       NaN            NaN   \n",
       "5072             NaN                       NaN            NaN   \n",
       "...              ...                       ...            ...   \n",
       "229978           NaN                       NaN            NaN   \n",
       "230969           NaN                       NaN            NaN   \n",
       "232011           NaN                       NaN            NaN   \n",
       "236753           NaN                       NaN            NaN   \n",
       "237738           NaN                       NaN            NaN   \n",
       "\n",
       "        hosp_patients_per_million  weekly_hosp_admissions  \\\n",
       "45                            NaN                     NaN   \n",
       "2075                          NaN                     NaN   \n",
       "3084                          NaN                     NaN   \n",
       "4087                          NaN                     NaN   \n",
       "5072                          NaN                     NaN   \n",
       "...                           ...                     ...   \n",
       "229978                        NaN                     NaN   \n",
       "230969                        NaN                     NaN   \n",
       "232011                        NaN                     NaN   \n",
       "236753                        NaN                     NaN   \n",
       "237738                        NaN                     NaN   \n",
       "\n",
       "        weekly_hosp_admissions_per_million  weekly_icu_admissions  \\\n",
       "45                                     NaN                    NaN   \n",
       "2075                                   NaN                    NaN   \n",
       "3084                                   NaN                    NaN   \n",
       "4087                                   NaN                    NaN   \n",
       "5072                                   NaN                    NaN   \n",
       "...                                    ...                    ...   \n",
       "229978                                 NaN                    NaN   \n",
       "230969                                 NaN                    NaN   \n",
       "232011                                 NaN                    NaN   \n",
       "236753                                 NaN                    NaN   \n",
       "237738                                 NaN                    NaN   \n",
       "\n",
       "        weekly_icu_admissions_per_million  \n",
       "45                                    NaN  \n",
       "2075                                  NaN  \n",
       "3084                                  NaN  \n",
       "4087                                  NaN  \n",
       "5072                                  NaN  \n",
       "...                                   ...  \n",
       "229978                                NaN  \n",
       "230969                                NaN  \n",
       "232011                                NaN  \n",
       "236753                                NaN  \n",
       "237738                                NaN  \n",
       "\n",
       "[204 rows x 67 columns]"
      ]
     },
     "execution_count": 156,
     "metadata": {},
     "output_type": "execute_result"
    }
   ],
   "source": [
    "df = df[df['iso_code'].str.contains('OWID')==False]\n",
    "df = df[df['date'] == '2020-04-09']\n",
    "df"
   ]
  },
  {
   "cell_type": "code",
   "execution_count": 157,
   "metadata": {},
   "outputs": [],
   "source": [
    "df.rename(columns ={'iso_code':'country_abrv'}, inplace=True)\n",
    "df = df[['country_abrv', 'total_cases']]"
   ]
  },
  {
   "cell_type": "code",
   "execution_count": 158,
   "metadata": {},
   "outputs": [
    {
     "data": {
      "text/html": [
       "<div>\n",
       "<style scoped>\n",
       "    .dataframe tbody tr th:only-of-type {\n",
       "        vertical-align: middle;\n",
       "    }\n",
       "\n",
       "    .dataframe tbody tr th {\n",
       "        vertical-align: top;\n",
       "    }\n",
       "\n",
       "    .dataframe thead th {\n",
       "        text-align: right;\n",
       "    }\n",
       "</style>\n",
       "<table border=\"1\" class=\"dataframe\">\n",
       "  <thead>\n",
       "    <tr style=\"text-align: right;\">\n",
       "      <th></th>\n",
       "      <th>country_abrv</th>\n",
       "      <th>total_cases</th>\n",
       "    </tr>\n",
       "  </thead>\n",
       "  <tbody>\n",
       "    <tr>\n",
       "      <th>45</th>\n",
       "      <td>AFG</td>\n",
       "      <td>444.0</td>\n",
       "    </tr>\n",
       "    <tr>\n",
       "      <th>2075</th>\n",
       "      <td>ALB</td>\n",
       "      <td>409.0</td>\n",
       "    </tr>\n",
       "    <tr>\n",
       "      <th>3084</th>\n",
       "      <td>DZA</td>\n",
       "      <td>1666.0</td>\n",
       "    </tr>\n",
       "    <tr>\n",
       "      <th>4087</th>\n",
       "      <td>AND</td>\n",
       "      <td>583.0</td>\n",
       "    </tr>\n",
       "    <tr>\n",
       "      <th>5072</th>\n",
       "      <td>AGO</td>\n",
       "      <td>19.0</td>\n",
       "    </tr>\n",
       "    <tr>\n",
       "      <th>...</th>\n",
       "      <td>...</td>\n",
       "      <td>...</td>\n",
       "    </tr>\n",
       "    <tr>\n",
       "      <th>229978</th>\n",
       "      <td>VAT</td>\n",
       "      <td>8.0</td>\n",
       "    </tr>\n",
       "    <tr>\n",
       "      <th>230969</th>\n",
       "      <td>VEN</td>\n",
       "      <td>171.0</td>\n",
       "    </tr>\n",
       "    <tr>\n",
       "      <th>232011</th>\n",
       "      <td>VNM</td>\n",
       "      <td>255.0</td>\n",
       "    </tr>\n",
       "    <tr>\n",
       "      <th>236753</th>\n",
       "      <td>ZMB</td>\n",
       "      <td>39.0</td>\n",
       "    </tr>\n",
       "    <tr>\n",
       "      <th>237738</th>\n",
       "      <td>ZWE</td>\n",
       "      <td>11.0</td>\n",
       "    </tr>\n",
       "  </tbody>\n",
       "</table>\n",
       "<p>204 rows × 2 columns</p>\n",
       "</div>"
      ],
      "text/plain": [
       "       country_abrv  total_cases\n",
       "45              AFG        444.0\n",
       "2075            ALB        409.0\n",
       "3084            DZA       1666.0\n",
       "4087            AND        583.0\n",
       "5072            AGO         19.0\n",
       "...             ...          ...\n",
       "229978          VAT          8.0\n",
       "230969          VEN        171.0\n",
       "232011          VNM        255.0\n",
       "236753          ZMB         39.0\n",
       "237738          ZWE         11.0\n",
       "\n",
       "[204 rows x 2 columns]"
      ]
     },
     "execution_count": 158,
     "metadata": {},
     "output_type": "execute_result"
    }
   ],
   "source": [
    "df"
   ]
  },
  {
   "cell_type": "code",
   "execution_count": 159,
   "metadata": {},
   "outputs": [
    {
     "data": {
      "text/html": [
       "<div>\n",
       "<style scoped>\n",
       "    .dataframe tbody tr th:only-of-type {\n",
       "        vertical-align: middle;\n",
       "    }\n",
       "\n",
       "    .dataframe tbody tr th {\n",
       "        vertical-align: top;\n",
       "    }\n",
       "\n",
       "    .dataframe thead th {\n",
       "        text-align: right;\n",
       "    }\n",
       "</style>\n",
       "<table border=\"1\" class=\"dataframe\">\n",
       "  <thead>\n",
       "    <tr style=\"text-align: right;\">\n",
       "      <th></th>\n",
       "      <th>country_abrv</th>\n",
       "      <th>total_cases</th>\n",
       "      <th>fifa_rank</th>\n",
       "      <th>rank_date</th>\n",
       "      <th>total_cases_rank</th>\n",
       "    </tr>\n",
       "  </thead>\n",
       "  <tbody>\n",
       "    <tr>\n",
       "      <th>0</th>\n",
       "      <td>AFG</td>\n",
       "      <td>444.0</td>\n",
       "      <td>149.0</td>\n",
       "      <td>2020-04-09</td>\n",
       "      <td>68.0</td>\n",
       "    </tr>\n",
       "    <tr>\n",
       "      <th>1</th>\n",
       "      <td>ALB</td>\n",
       "      <td>409.0</td>\n",
       "      <td>66.0</td>\n",
       "      <td>2020-04-09</td>\n",
       "      <td>70.0</td>\n",
       "    </tr>\n",
       "    <tr>\n",
       "      <th>3</th>\n",
       "      <td>AND</td>\n",
       "      <td>583.0</td>\n",
       "      <td>135.0</td>\n",
       "      <td>2020-04-09</td>\n",
       "      <td>62.0</td>\n",
       "    </tr>\n",
       "    <tr>\n",
       "      <th>5</th>\n",
       "      <td>AIA</td>\n",
       "      <td>3.0</td>\n",
       "      <td>210.0</td>\n",
       "      <td>2020-04-09</td>\n",
       "      <td>128.0</td>\n",
       "    </tr>\n",
       "    <tr>\n",
       "      <th>6</th>\n",
       "      <td>ATG</td>\n",
       "      <td>19.0</td>\n",
       "      <td>126.0</td>\n",
       "      <td>2020-04-09</td>\n",
       "      <td>105.0</td>\n",
       "    </tr>\n",
       "    <tr>\n",
       "      <th>...</th>\n",
       "      <td>...</td>\n",
       "      <td>...</td>\n",
       "      <td>...</td>\n",
       "      <td>...</td>\n",
       "      <td>...</td>\n",
       "    </tr>\n",
       "    <tr>\n",
       "      <th>191</th>\n",
       "      <td>UGA</td>\n",
       "      <td>53.0</td>\n",
       "      <td>77.0</td>\n",
       "      <td>2020-04-09</td>\n",
       "      <td>94.0</td>\n",
       "    </tr>\n",
       "    <tr>\n",
       "      <th>192</th>\n",
       "      <td>UKR</td>\n",
       "      <td>1892.0</td>\n",
       "      <td>24.0</td>\n",
       "      <td>2020-04-09</td>\n",
       "      <td>38.0</td>\n",
       "    </tr>\n",
       "    <tr>\n",
       "      <th>195</th>\n",
       "      <td>USA</td>\n",
       "      <td>482510.0</td>\n",
       "      <td>22.0</td>\n",
       "      <td>2020-04-09</td>\n",
       "      <td>1.0</td>\n",
       "    </tr>\n",
       "    <tr>\n",
       "      <th>198</th>\n",
       "      <td>UZB</td>\n",
       "      <td>582.0</td>\n",
       "      <td>85.0</td>\n",
       "      <td>2020-04-09</td>\n",
       "      <td>64.0</td>\n",
       "    </tr>\n",
       "    <tr>\n",
       "      <th>200</th>\n",
       "      <td>VEN</td>\n",
       "      <td>171.0</td>\n",
       "      <td>25.0</td>\n",
       "      <td>2020-04-09</td>\n",
       "      <td>84.0</td>\n",
       "    </tr>\n",
       "  </tbody>\n",
       "</table>\n",
       "<p>131 rows × 5 columns</p>\n",
       "</div>"
      ],
      "text/plain": [
       "    country_abrv  total_cases  fifa_rank   rank_date  total_cases_rank\n",
       "0            AFG        444.0      149.0  2020-04-09              68.0\n",
       "1            ALB        409.0       66.0  2020-04-09              70.0\n",
       "3            AND        583.0      135.0  2020-04-09              62.0\n",
       "5            AIA          3.0      210.0  2020-04-09             128.0\n",
       "6            ATG         19.0      126.0  2020-04-09             105.0\n",
       "..           ...          ...        ...         ...               ...\n",
       "191          UGA         53.0       77.0  2020-04-09              94.0\n",
       "192          UKR       1892.0       24.0  2020-04-09              38.0\n",
       "195          USA     482510.0       22.0  2020-04-09               1.0\n",
       "198          UZB        582.0       85.0  2020-04-09              64.0\n",
       "200          VEN        171.0       25.0  2020-04-09              84.0\n",
       "\n",
       "[131 rows x 5 columns]"
      ]
     },
     "execution_count": 159,
     "metadata": {},
     "output_type": "execute_result"
    }
   ],
   "source": [
    "final_rank = df.merge(fifa_ranking, how='left', on='country_abrv')\n",
    "final_rank = final_rank.dropna()\n",
    "final_rank = final_rank.rename(columns = {'rank':'fifa_rank'})\n",
    "# create a ranking of the covid cases\n",
    "final_rank['total_cases_rank'] = final_rank['total_cases'].rank(method = 'max', ascending = False)\n",
    "final_rank"
   ]
  },
  {
   "cell_type": "markdown",
   "metadata": {},
   "source": [
    "MAKE A COVID RANKING TO SHOW THE AMOUNT OF COVID IN A COUNTRY"
   ]
  },
  {
   "cell_type": "code",
   "execution_count": 160,
   "metadata": {},
   "outputs": [
    {
     "data": {
      "text/html": [
       "<div>\n",
       "<style scoped>\n",
       "    .dataframe tbody tr th:only-of-type {\n",
       "        vertical-align: middle;\n",
       "    }\n",
       "\n",
       "    .dataframe tbody tr th {\n",
       "        vertical-align: top;\n",
       "    }\n",
       "\n",
       "    .dataframe thead th {\n",
       "        text-align: right;\n",
       "    }\n",
       "</style>\n",
       "<table border=\"1\" class=\"dataframe\">\n",
       "  <thead>\n",
       "    <tr style=\"text-align: right;\">\n",
       "      <th></th>\n",
       "      <th>country_abrv</th>\n",
       "      <th>total_cases</th>\n",
       "      <th>fifa_rank</th>\n",
       "      <th>rank_date</th>\n",
       "      <th>total_cases_rank</th>\n",
       "    </tr>\n",
       "  </thead>\n",
       "  <tbody>\n",
       "    <tr>\n",
       "      <th>18</th>\n",
       "      <td>BEL</td>\n",
       "      <td>24983.0</td>\n",
       "      <td>1.0</td>\n",
       "      <td>2020-04-09</td>\n",
       "      <td>8.0</td>\n",
       "    </tr>\n",
       "    <tr>\n",
       "      <th>68</th>\n",
       "      <td>FRA</td>\n",
       "      <td>54964.0</td>\n",
       "      <td>2.0</td>\n",
       "      <td>2020-04-09</td>\n",
       "      <td>6.0</td>\n",
       "    </tr>\n",
       "    <tr>\n",
       "      <th>27</th>\n",
       "      <td>BRA</td>\n",
       "      <td>18092.0</td>\n",
       "      <td>3.0</td>\n",
       "      <td>2020-04-09</td>\n",
       "      <td>10.0</td>\n",
       "    </tr>\n",
       "    <tr>\n",
       "      <th>175</th>\n",
       "      <td>ESP</td>\n",
       "      <td>153222.0</td>\n",
       "      <td>8.0</td>\n",
       "      <td>2020-04-09</td>\n",
       "      <td>2.0</td>\n",
       "    </tr>\n",
       "    <tr>\n",
       "      <th>7</th>\n",
       "      <td>ARG</td>\n",
       "      <td>1795.0</td>\n",
       "      <td>9.0</td>\n",
       "      <td>2020-04-09</td>\n",
       "      <td>39.0</td>\n",
       "    </tr>\n",
       "    <tr>\n",
       "      <th>...</th>\n",
       "      <td>...</td>\n",
       "      <td>...</td>\n",
       "      <td>...</td>\n",
       "      <td>...</td>\n",
       "      <td>...</td>\n",
       "    </tr>\n",
       "    <tr>\n",
       "      <th>190</th>\n",
       "      <td>TCA</td>\n",
       "      <td>8.0</td>\n",
       "      <td>203.0</td>\n",
       "      <td>2020-04-09</td>\n",
       "      <td>121.0</td>\n",
       "    </tr>\n",
       "    <tr>\n",
       "      <th>60</th>\n",
       "      <td>ERI</td>\n",
       "      <td>33.0</td>\n",
       "      <td>205.0</td>\n",
       "      <td>2020-04-09</td>\n",
       "      <td>99.0</td>\n",
       "    </tr>\n",
       "    <tr>\n",
       "      <th>28</th>\n",
       "      <td>VGB</td>\n",
       "      <td>3.0</td>\n",
       "      <td>208.0</td>\n",
       "      <td>2020-04-09</td>\n",
       "      <td>128.0</td>\n",
       "    </tr>\n",
       "    <tr>\n",
       "      <th>161</th>\n",
       "      <td>SMR</td>\n",
       "      <td>308.0</td>\n",
       "      <td>209.0</td>\n",
       "      <td>2020-04-09</td>\n",
       "      <td>74.0</td>\n",
       "    </tr>\n",
       "    <tr>\n",
       "      <th>5</th>\n",
       "      <td>AIA</td>\n",
       "      <td>3.0</td>\n",
       "      <td>210.0</td>\n",
       "      <td>2020-04-09</td>\n",
       "      <td>128.0</td>\n",
       "    </tr>\n",
       "  </tbody>\n",
       "</table>\n",
       "<p>131 rows × 5 columns</p>\n",
       "</div>"
      ],
      "text/plain": [
       "    country_abrv  total_cases  fifa_rank   rank_date  total_cases_rank\n",
       "18           BEL      24983.0        1.0  2020-04-09               8.0\n",
       "68           FRA      54964.0        2.0  2020-04-09               6.0\n",
       "27           BRA      18092.0        3.0  2020-04-09              10.0\n",
       "175          ESP     153222.0        8.0  2020-04-09               2.0\n",
       "7            ARG       1795.0        9.0  2020-04-09              39.0\n",
       "..           ...          ...        ...         ...               ...\n",
       "190          TCA          8.0      203.0  2020-04-09             121.0\n",
       "60           ERI         33.0      205.0  2020-04-09              99.0\n",
       "28           VGB          3.0      208.0  2020-04-09             128.0\n",
       "161          SMR        308.0      209.0  2020-04-09              74.0\n",
       "5            AIA          3.0      210.0  2020-04-09             128.0\n",
       "\n",
       "[131 rows x 5 columns]"
      ]
     },
     "execution_count": 160,
     "metadata": {},
     "output_type": "execute_result"
    }
   ],
   "source": [
    "final_df = final_rank.sort_values(by='fifa_rank')\n",
    "final_df"
   ]
  },
  {
   "cell_type": "code",
   "execution_count": 161,
   "metadata": {},
   "outputs": [
    {
     "data": {
      "application/vnd.plotly.v1+json": {
       "config": {
        "plotlyServerURL": "https://plot.ly"
       },
       "data": [
        {
         "mode": "markers",
         "name": "Total COVID cases on 09-04-2020",
         "type": "scatter",
         "x": [
          8,
          6,
          10,
          2,
          39,
          36,
          27,
          3,
          15,
          21,
          79,
          23,
          1,
          38,
          84,
          11,
          60,
          20,
          31,
          7,
          75,
          58,
          5,
          17,
          24,
          14,
          41,
          12,
          19,
          43,
          18,
          22,
          71,
          92,
          54,
          40,
          49,
          57,
          34,
          83,
          90,
          30,
          69,
          68,
          25,
          78,
          48,
          70,
          59,
          88,
          46,
          9,
          77,
          4,
          94,
          123,
          105,
          114,
          32,
          96,
          101,
          64,
          42,
          64,
          80,
          13,
          65,
          76,
          72,
          29,
          53,
          102,
          52,
          47,
          107,
          82,
          16,
          82,
          33,
          51,
          131,
          110,
          123,
          55,
          98,
          45,
          121,
          105,
          114,
          87,
          56,
          62,
          61,
          117,
          50,
          93,
          68,
          128,
          100,
          116,
          105,
          106,
          37,
          35,
          91,
          129,
          97,
          128,
          119,
          28,
          44,
          114,
          66,
          89,
          124,
          95,
          119,
          111,
          85,
          73,
          110,
          110,
          86,
          116,
          130,
          26,
          121,
          99,
          128,
          74,
          128
         ],
         "xaxis": "x",
         "y": [
          1,
          2,
          3,
          8,
          9,
          10,
          11,
          13,
          17,
          19,
          20,
          21,
          22,
          24,
          25,
          26,
          27,
          28,
          29,
          29,
          31,
          32,
          33,
          34,
          37,
          38,
          39,
          40,
          42,
          43,
          44,
          45,
          46,
          48,
          49,
          51,
          52,
          53,
          55,
          56,
          56,
          58,
          59,
          61,
          63,
          64,
          64,
          66,
          68,
          69,
          70,
          73,
          75,
          76,
          77,
          78,
          79,
          80,
          81,
          83,
          84,
          85,
          87,
          89,
          91,
          93,
          95,
          96,
          97,
          98,
          99,
          101,
          102,
          104,
          106,
          107,
          108,
          110,
          113,
          114,
          116,
          117,
          118,
          118,
          118,
          122,
          123,
          126,
          128,
          131,
          131,
          135,
          137,
          141,
          143,
          146,
          149,
          149,
          152,
          153,
          155,
          156,
          157,
          158,
          162,
          165,
          166,
          168,
          170,
          173,
          175,
          176,
          179,
          180,
          181,
          182,
          183,
          184,
          184,
          184,
          188,
          190,
          196,
          196,
          196,
          200,
          203,
          205,
          208,
          209,
          210
         ],
         "yaxis": "y"
        }
       ],
       "layout": {
        "template": {
         "data": {
          "bar": [
           {
            "error_x": {
             "color": "#2a3f5f"
            },
            "error_y": {
             "color": "#2a3f5f"
            },
            "marker": {
             "line": {
              "color": "#E5ECF6",
              "width": 0.5
             },
             "pattern": {
              "fillmode": "overlay",
              "size": 10,
              "solidity": 0.2
             }
            },
            "type": "bar"
           }
          ],
          "barpolar": [
           {
            "marker": {
             "line": {
              "color": "#E5ECF6",
              "width": 0.5
             },
             "pattern": {
              "fillmode": "overlay",
              "size": 10,
              "solidity": 0.2
             }
            },
            "type": "barpolar"
           }
          ],
          "carpet": [
           {
            "aaxis": {
             "endlinecolor": "#2a3f5f",
             "gridcolor": "white",
             "linecolor": "white",
             "minorgridcolor": "white",
             "startlinecolor": "#2a3f5f"
            },
            "baxis": {
             "endlinecolor": "#2a3f5f",
             "gridcolor": "white",
             "linecolor": "white",
             "minorgridcolor": "white",
             "startlinecolor": "#2a3f5f"
            },
            "type": "carpet"
           }
          ],
          "choropleth": [
           {
            "colorbar": {
             "outlinewidth": 0,
             "ticks": ""
            },
            "type": "choropleth"
           }
          ],
          "contour": [
           {
            "colorbar": {
             "outlinewidth": 0,
             "ticks": ""
            },
            "colorscale": [
             [
              0,
              "#0d0887"
             ],
             [
              0.1111111111111111,
              "#46039f"
             ],
             [
              0.2222222222222222,
              "#7201a8"
             ],
             [
              0.3333333333333333,
              "#9c179e"
             ],
             [
              0.4444444444444444,
              "#bd3786"
             ],
             [
              0.5555555555555556,
              "#d8576b"
             ],
             [
              0.6666666666666666,
              "#ed7953"
             ],
             [
              0.7777777777777778,
              "#fb9f3a"
             ],
             [
              0.8888888888888888,
              "#fdca26"
             ],
             [
              1,
              "#f0f921"
             ]
            ],
            "type": "contour"
           }
          ],
          "contourcarpet": [
           {
            "colorbar": {
             "outlinewidth": 0,
             "ticks": ""
            },
            "type": "contourcarpet"
           }
          ],
          "heatmap": [
           {
            "colorbar": {
             "outlinewidth": 0,
             "ticks": ""
            },
            "colorscale": [
             [
              0,
              "#0d0887"
             ],
             [
              0.1111111111111111,
              "#46039f"
             ],
             [
              0.2222222222222222,
              "#7201a8"
             ],
             [
              0.3333333333333333,
              "#9c179e"
             ],
             [
              0.4444444444444444,
              "#bd3786"
             ],
             [
              0.5555555555555556,
              "#d8576b"
             ],
             [
              0.6666666666666666,
              "#ed7953"
             ],
             [
              0.7777777777777778,
              "#fb9f3a"
             ],
             [
              0.8888888888888888,
              "#fdca26"
             ],
             [
              1,
              "#f0f921"
             ]
            ],
            "type": "heatmap"
           }
          ],
          "heatmapgl": [
           {
            "colorbar": {
             "outlinewidth": 0,
             "ticks": ""
            },
            "colorscale": [
             [
              0,
              "#0d0887"
             ],
             [
              0.1111111111111111,
              "#46039f"
             ],
             [
              0.2222222222222222,
              "#7201a8"
             ],
             [
              0.3333333333333333,
              "#9c179e"
             ],
             [
              0.4444444444444444,
              "#bd3786"
             ],
             [
              0.5555555555555556,
              "#d8576b"
             ],
             [
              0.6666666666666666,
              "#ed7953"
             ],
             [
              0.7777777777777778,
              "#fb9f3a"
             ],
             [
              0.8888888888888888,
              "#fdca26"
             ],
             [
              1,
              "#f0f921"
             ]
            ],
            "type": "heatmapgl"
           }
          ],
          "histogram": [
           {
            "marker": {
             "pattern": {
              "fillmode": "overlay",
              "size": 10,
              "solidity": 0.2
             }
            },
            "type": "histogram"
           }
          ],
          "histogram2d": [
           {
            "colorbar": {
             "outlinewidth": 0,
             "ticks": ""
            },
            "colorscale": [
             [
              0,
              "#0d0887"
             ],
             [
              0.1111111111111111,
              "#46039f"
             ],
             [
              0.2222222222222222,
              "#7201a8"
             ],
             [
              0.3333333333333333,
              "#9c179e"
             ],
             [
              0.4444444444444444,
              "#bd3786"
             ],
             [
              0.5555555555555556,
              "#d8576b"
             ],
             [
              0.6666666666666666,
              "#ed7953"
             ],
             [
              0.7777777777777778,
              "#fb9f3a"
             ],
             [
              0.8888888888888888,
              "#fdca26"
             ],
             [
              1,
              "#f0f921"
             ]
            ],
            "type": "histogram2d"
           }
          ],
          "histogram2dcontour": [
           {
            "colorbar": {
             "outlinewidth": 0,
             "ticks": ""
            },
            "colorscale": [
             [
              0,
              "#0d0887"
             ],
             [
              0.1111111111111111,
              "#46039f"
             ],
             [
              0.2222222222222222,
              "#7201a8"
             ],
             [
              0.3333333333333333,
              "#9c179e"
             ],
             [
              0.4444444444444444,
              "#bd3786"
             ],
             [
              0.5555555555555556,
              "#d8576b"
             ],
             [
              0.6666666666666666,
              "#ed7953"
             ],
             [
              0.7777777777777778,
              "#fb9f3a"
             ],
             [
              0.8888888888888888,
              "#fdca26"
             ],
             [
              1,
              "#f0f921"
             ]
            ],
            "type": "histogram2dcontour"
           }
          ],
          "mesh3d": [
           {
            "colorbar": {
             "outlinewidth": 0,
             "ticks": ""
            },
            "type": "mesh3d"
           }
          ],
          "parcoords": [
           {
            "line": {
             "colorbar": {
              "outlinewidth": 0,
              "ticks": ""
             }
            },
            "type": "parcoords"
           }
          ],
          "pie": [
           {
            "automargin": true,
            "type": "pie"
           }
          ],
          "scatter": [
           {
            "fillpattern": {
             "fillmode": "overlay",
             "size": 10,
             "solidity": 0.2
            },
            "type": "scatter"
           }
          ],
          "scatter3d": [
           {
            "line": {
             "colorbar": {
              "outlinewidth": 0,
              "ticks": ""
             }
            },
            "marker": {
             "colorbar": {
              "outlinewidth": 0,
              "ticks": ""
             }
            },
            "type": "scatter3d"
           }
          ],
          "scattercarpet": [
           {
            "marker": {
             "colorbar": {
              "outlinewidth": 0,
              "ticks": ""
             }
            },
            "type": "scattercarpet"
           }
          ],
          "scattergeo": [
           {
            "marker": {
             "colorbar": {
              "outlinewidth": 0,
              "ticks": ""
             }
            },
            "type": "scattergeo"
           }
          ],
          "scattergl": [
           {
            "marker": {
             "colorbar": {
              "outlinewidth": 0,
              "ticks": ""
             }
            },
            "type": "scattergl"
           }
          ],
          "scattermapbox": [
           {
            "marker": {
             "colorbar": {
              "outlinewidth": 0,
              "ticks": ""
             }
            },
            "type": "scattermapbox"
           }
          ],
          "scatterpolar": [
           {
            "marker": {
             "colorbar": {
              "outlinewidth": 0,
              "ticks": ""
             }
            },
            "type": "scatterpolar"
           }
          ],
          "scatterpolargl": [
           {
            "marker": {
             "colorbar": {
              "outlinewidth": 0,
              "ticks": ""
             }
            },
            "type": "scatterpolargl"
           }
          ],
          "scatterternary": [
           {
            "marker": {
             "colorbar": {
              "outlinewidth": 0,
              "ticks": ""
             }
            },
            "type": "scatterternary"
           }
          ],
          "surface": [
           {
            "colorbar": {
             "outlinewidth": 0,
             "ticks": ""
            },
            "colorscale": [
             [
              0,
              "#0d0887"
             ],
             [
              0.1111111111111111,
              "#46039f"
             ],
             [
              0.2222222222222222,
              "#7201a8"
             ],
             [
              0.3333333333333333,
              "#9c179e"
             ],
             [
              0.4444444444444444,
              "#bd3786"
             ],
             [
              0.5555555555555556,
              "#d8576b"
             ],
             [
              0.6666666666666666,
              "#ed7953"
             ],
             [
              0.7777777777777778,
              "#fb9f3a"
             ],
             [
              0.8888888888888888,
              "#fdca26"
             ],
             [
              1,
              "#f0f921"
             ]
            ],
            "type": "surface"
           }
          ],
          "table": [
           {
            "cells": {
             "fill": {
              "color": "#EBF0F8"
             },
             "line": {
              "color": "white"
             }
            },
            "header": {
             "fill": {
              "color": "#C8D4E3"
             },
             "line": {
              "color": "white"
             }
            },
            "type": "table"
           }
          ]
         },
         "layout": {
          "annotationdefaults": {
           "arrowcolor": "#2a3f5f",
           "arrowhead": 0,
           "arrowwidth": 1
          },
          "autotypenumbers": "strict",
          "coloraxis": {
           "colorbar": {
            "outlinewidth": 0,
            "ticks": ""
           }
          },
          "colorscale": {
           "diverging": [
            [
             0,
             "#8e0152"
            ],
            [
             0.1,
             "#c51b7d"
            ],
            [
             0.2,
             "#de77ae"
            ],
            [
             0.3,
             "#f1b6da"
            ],
            [
             0.4,
             "#fde0ef"
            ],
            [
             0.5,
             "#f7f7f7"
            ],
            [
             0.6,
             "#e6f5d0"
            ],
            [
             0.7,
             "#b8e186"
            ],
            [
             0.8,
             "#7fbc41"
            ],
            [
             0.9,
             "#4d9221"
            ],
            [
             1,
             "#276419"
            ]
           ],
           "sequential": [
            [
             0,
             "#0d0887"
            ],
            [
             0.1111111111111111,
             "#46039f"
            ],
            [
             0.2222222222222222,
             "#7201a8"
            ],
            [
             0.3333333333333333,
             "#9c179e"
            ],
            [
             0.4444444444444444,
             "#bd3786"
            ],
            [
             0.5555555555555556,
             "#d8576b"
            ],
            [
             0.6666666666666666,
             "#ed7953"
            ],
            [
             0.7777777777777778,
             "#fb9f3a"
            ],
            [
             0.8888888888888888,
             "#fdca26"
            ],
            [
             1,
             "#f0f921"
            ]
           ],
           "sequentialminus": [
            [
             0,
             "#0d0887"
            ],
            [
             0.1111111111111111,
             "#46039f"
            ],
            [
             0.2222222222222222,
             "#7201a8"
            ],
            [
             0.3333333333333333,
             "#9c179e"
            ],
            [
             0.4444444444444444,
             "#bd3786"
            ],
            [
             0.5555555555555556,
             "#d8576b"
            ],
            [
             0.6666666666666666,
             "#ed7953"
            ],
            [
             0.7777777777777778,
             "#fb9f3a"
            ],
            [
             0.8888888888888888,
             "#fdca26"
            ],
            [
             1,
             "#f0f921"
            ]
           ]
          },
          "colorway": [
           "#636efa",
           "#EF553B",
           "#00cc96",
           "#ab63fa",
           "#FFA15A",
           "#19d3f3",
           "#FF6692",
           "#B6E880",
           "#FF97FF",
           "#FECB52"
          ],
          "font": {
           "color": "#2a3f5f"
          },
          "geo": {
           "bgcolor": "white",
           "lakecolor": "white",
           "landcolor": "#E5ECF6",
           "showlakes": true,
           "showland": true,
           "subunitcolor": "white"
          },
          "hoverlabel": {
           "align": "left"
          },
          "hovermode": "closest",
          "mapbox": {
           "style": "light"
          },
          "paper_bgcolor": "white",
          "plot_bgcolor": "#E5ECF6",
          "polar": {
           "angularaxis": {
            "gridcolor": "white",
            "linecolor": "white",
            "ticks": ""
           },
           "bgcolor": "#E5ECF6",
           "radialaxis": {
            "gridcolor": "white",
            "linecolor": "white",
            "ticks": ""
           }
          },
          "scene": {
           "xaxis": {
            "backgroundcolor": "#E5ECF6",
            "gridcolor": "white",
            "gridwidth": 2,
            "linecolor": "white",
            "showbackground": true,
            "ticks": "",
            "zerolinecolor": "white"
           },
           "yaxis": {
            "backgroundcolor": "#E5ECF6",
            "gridcolor": "white",
            "gridwidth": 2,
            "linecolor": "white",
            "showbackground": true,
            "ticks": "",
            "zerolinecolor": "white"
           },
           "zaxis": {
            "backgroundcolor": "#E5ECF6",
            "gridcolor": "white",
            "gridwidth": 2,
            "linecolor": "white",
            "showbackground": true,
            "ticks": "",
            "zerolinecolor": "white"
           }
          },
          "shapedefaults": {
           "line": {
            "color": "#2a3f5f"
           }
          },
          "ternary": {
           "aaxis": {
            "gridcolor": "white",
            "linecolor": "white",
            "ticks": ""
           },
           "baxis": {
            "gridcolor": "white",
            "linecolor": "white",
            "ticks": ""
           },
           "bgcolor": "#E5ECF6",
           "caxis": {
            "gridcolor": "white",
            "linecolor": "white",
            "ticks": ""
           }
          },
          "title": {
           "x": 0.05
          },
          "xaxis": {
           "automargin": true,
           "gridcolor": "white",
           "linecolor": "white",
           "ticks": "",
           "title": {
            "standoff": 15
           },
           "zerolinecolor": "white",
           "zerolinewidth": 2
          },
          "yaxis": {
           "automargin": true,
           "gridcolor": "white",
           "linecolor": "white",
           "ticks": "",
           "title": {
            "standoff": 15
           },
           "zerolinecolor": "white",
           "zerolinewidth": 2
          }
         }
        },
        "title": {
         "text": "Correlation between COVID cases and Fifa World Ranking"
        },
        "xaxis": {
         "anchor": "y",
         "domain": [
          0,
          0.94
         ],
         "title": {
          "text": "<b>COVID Cases Rank</b>"
         }
        },
        "yaxis": {
         "anchor": "x",
         "domain": [
          0,
          1
         ],
         "title": {
          "text": "<b>Fifa Rank</b>"
         }
        },
        "yaxis2": {
         "anchor": "x",
         "overlaying": "y",
         "side": "right"
        }
       }
      }
     },
     "metadata": {},
     "output_type": "display_data"
    }
   ],
   "source": [
    "import plotly.graph_objects as go\n",
    "from plotly.subplots import make_subplots\n",
    "\n",
    "# Create figure with secondary y-axis\n",
    "fig = make_subplots(specs=[[{\"secondary_y\": True}]])\n",
    "\n",
    "# Add traces\n",
    "fig.add_trace(\n",
    "go.Scatter(x=final_df['total_cases_rank'], y=final_df['fifa_rank'], name=\"Total COVID cases on 09-04-2020\", mode='markers'),\n",
    "secondary_y=False,\n",
    ")\n",
    "\n",
    "# Add figure title\n",
    "fig.update_layout(\n",
    "    title_text=\"Correlation between COVID cases and Fifa World Ranking\"\n",
    ")\n",
    "\n",
    "# Set y-axes titles\n",
    "fig.update_yaxes(title_text=\"<b>Fifa Rank</b>\", secondary_y=False)\n",
    "fig.update_xaxes(title_text=\"<b>COVID Cases Rank</b>\")\n",
    "\n",
    "fig.show()\n",
    "\n"
   ]
  },
  {
   "cell_type": "code",
   "execution_count": 162,
   "metadata": {},
   "outputs": [],
   "source": [
    "import pycountry"
   ]
  },
  {
   "cell_type": "code",
   "execution_count": 163,
   "metadata": {},
   "outputs": [
    {
     "data": {
      "text/html": [
       "<div>\n",
       "<style scoped>\n",
       "    .dataframe tbody tr th:only-of-type {\n",
       "        vertical-align: middle;\n",
       "    }\n",
       "\n",
       "    .dataframe tbody tr th {\n",
       "        vertical-align: top;\n",
       "    }\n",
       "\n",
       "    .dataframe thead th {\n",
       "        text-align: right;\n",
       "    }\n",
       "</style>\n",
       "<table border=\"1\" class=\"dataframe\">\n",
       "  <thead>\n",
       "    <tr style=\"text-align: right;\">\n",
       "      <th></th>\n",
       "      <th>country_abrv</th>\n",
       "      <th>total_cases</th>\n",
       "      <th>fifa_rank</th>\n",
       "      <th>rank_date</th>\n",
       "      <th>total_cases_rank</th>\n",
       "      <th>iso_2</th>\n",
       "    </tr>\n",
       "  </thead>\n",
       "  <tbody>\n",
       "    <tr>\n",
       "      <th>0</th>\n",
       "      <td>BEL</td>\n",
       "      <td>24983.0</td>\n",
       "      <td>1.0</td>\n",
       "      <td>2020-04-09</td>\n",
       "      <td>8.0</td>\n",
       "      <td>BE</td>\n",
       "    </tr>\n",
       "    <tr>\n",
       "      <th>1</th>\n",
       "      <td>FRA</td>\n",
       "      <td>54964.0</td>\n",
       "      <td>2.0</td>\n",
       "      <td>2020-04-09</td>\n",
       "      <td>6.0</td>\n",
       "      <td>FR</td>\n",
       "    </tr>\n",
       "    <tr>\n",
       "      <th>2</th>\n",
       "      <td>BRA</td>\n",
       "      <td>18092.0</td>\n",
       "      <td>3.0</td>\n",
       "      <td>2020-04-09</td>\n",
       "      <td>10.0</td>\n",
       "      <td>BR</td>\n",
       "    </tr>\n",
       "    <tr>\n",
       "      <th>3</th>\n",
       "      <td>ESP</td>\n",
       "      <td>153222.0</td>\n",
       "      <td>8.0</td>\n",
       "      <td>2020-04-09</td>\n",
       "      <td>2.0</td>\n",
       "      <td>ES</td>\n",
       "    </tr>\n",
       "    <tr>\n",
       "      <th>4</th>\n",
       "      <td>ARG</td>\n",
       "      <td>1795.0</td>\n",
       "      <td>9.0</td>\n",
       "      <td>2020-04-09</td>\n",
       "      <td>39.0</td>\n",
       "      <td>AR</td>\n",
       "    </tr>\n",
       "    <tr>\n",
       "      <th>...</th>\n",
       "      <td>...</td>\n",
       "      <td>...</td>\n",
       "      <td>...</td>\n",
       "      <td>...</td>\n",
       "      <td>...</td>\n",
       "      <td>...</td>\n",
       "    </tr>\n",
       "    <tr>\n",
       "      <th>126</th>\n",
       "      <td>TCA</td>\n",
       "      <td>8.0</td>\n",
       "      <td>203.0</td>\n",
       "      <td>2020-04-09</td>\n",
       "      <td>121.0</td>\n",
       "      <td>TC</td>\n",
       "    </tr>\n",
       "    <tr>\n",
       "      <th>127</th>\n",
       "      <td>ERI</td>\n",
       "      <td>33.0</td>\n",
       "      <td>205.0</td>\n",
       "      <td>2020-04-09</td>\n",
       "      <td>99.0</td>\n",
       "      <td>ER</td>\n",
       "    </tr>\n",
       "    <tr>\n",
       "      <th>128</th>\n",
       "      <td>VGB</td>\n",
       "      <td>3.0</td>\n",
       "      <td>208.0</td>\n",
       "      <td>2020-04-09</td>\n",
       "      <td>128.0</td>\n",
       "      <td>VG</td>\n",
       "    </tr>\n",
       "    <tr>\n",
       "      <th>129</th>\n",
       "      <td>SMR</td>\n",
       "      <td>308.0</td>\n",
       "      <td>209.0</td>\n",
       "      <td>2020-04-09</td>\n",
       "      <td>74.0</td>\n",
       "      <td>SM</td>\n",
       "    </tr>\n",
       "    <tr>\n",
       "      <th>130</th>\n",
       "      <td>AIA</td>\n",
       "      <td>3.0</td>\n",
       "      <td>210.0</td>\n",
       "      <td>2020-04-09</td>\n",
       "      <td>128.0</td>\n",
       "      <td>AI</td>\n",
       "    </tr>\n",
       "  </tbody>\n",
       "</table>\n",
       "<p>131 rows × 6 columns</p>\n",
       "</div>"
      ],
      "text/plain": [
       "    country_abrv  total_cases  fifa_rank   rank_date  total_cases_rank iso_2\n",
       "0            BEL      24983.0        1.0  2020-04-09               8.0    BE\n",
       "1            FRA      54964.0        2.0  2020-04-09               6.0    FR\n",
       "2            BRA      18092.0        3.0  2020-04-09              10.0    BR\n",
       "3            ESP     153222.0        8.0  2020-04-09               2.0    ES\n",
       "4            ARG       1795.0        9.0  2020-04-09              39.0    AR\n",
       "..           ...          ...        ...         ...               ...   ...\n",
       "126          TCA          8.0      203.0  2020-04-09             121.0    TC\n",
       "127          ERI         33.0      205.0  2020-04-09              99.0    ER\n",
       "128          VGB          3.0      208.0  2020-04-09             128.0    VG\n",
       "129          SMR        308.0      209.0  2020-04-09              74.0    SM\n",
       "130          AIA          3.0      210.0  2020-04-09             128.0    AI\n",
       "\n",
       "[131 rows x 6 columns]"
      ]
     },
     "execution_count": 163,
     "metadata": {},
     "output_type": "execute_result"
    }
   ],
   "source": [
    "iso_2 = []\n",
    "\n",
    "for element in final_df['country_abrv']:\n",
    "    country_data = pycountry.countries.get(alpha_3 = str(element))\n",
    "    iso_2.append(country_data.alpha_2)\n",
    "\n",
    "alpha2 = pd.Series(iso_2)\n",
    "# final_df['iso_2'] = alpha2\n",
    "final_df = final_df.reset_index()\n",
    "final_df['iso_2'] = alpha2\n",
    "final_df.drop(columns = ['index'])"
   ]
  },
  {
   "cell_type": "code",
   "execution_count": 165,
   "metadata": {},
   "outputs": [
    {
     "name": "stdout",
     "output_type": "stream",
     "text": [
      "Dash is running on http://127.0.0.1:8052/\n",
      "\n",
      " * Serving Flask app '__main__'\n",
      " * Debug mode: off\n"
     ]
    },
    {
     "name": "stderr",
     "output_type": "stream",
     "text": [
      "WARNING: This is a development server. Do not use it in a production deployment. Use a production WSGI server instead.\n",
      " * Running on http://127.0.0.1:8052\n",
      "Press CTRL+C to quit\n",
      "127.0.0.1 - - [01/Dec/2022 16:59:53] \"GET / HTTP/1.1\" 200 -\n",
      "127.0.0.1 - - [01/Dec/2022 16:59:53] \"GET /_dash-component-suites/dash/deps/polyfill@7.v2_7_0m1668192434.12.1.min.js HTTP/1.1\" 200 -\n",
      "127.0.0.1 - - [01/Dec/2022 16:59:53] \"GET /assets/style.css?m=1669901986.8302228 HTTP/1.1\" 200 -\n",
      "127.0.0.1 - - [01/Dec/2022 16:59:53] \"GET /_dash-component-suites/dash/deps/react@16.v2_7_0m1668192434.14.0.min.js HTTP/1.1\" 200 -\n",
      "127.0.0.1 - - [01/Dec/2022 16:59:53] \"GET /_dash-component-suites/dash/deps/react-dom@16.v2_7_0m1668192434.14.0.min.js HTTP/1.1\" 200 -\n",
      "127.0.0.1 - - [01/Dec/2022 16:59:53] \"GET /_dash-component-suites/dash/deps/prop-types@15.v2_7_0m1668192434.8.1.min.js HTTP/1.1\" 200 -\n",
      "127.0.0.1 - - [01/Dec/2022 16:59:53] \"GET /_dash-component-suites/dash_bootstrap_components/_components/dash_bootstrap_components.v1_2_1m1668192486.min.js HTTP/1.1\" 200 -\n",
      "127.0.0.1 - - [01/Dec/2022 16:59:53] \"GET /_dash-component-suites/dash/dcc/dash_core_components.v2_7_0m1668192433.js HTTP/1.1\" 200 -\n",
      "127.0.0.1 - - [01/Dec/2022 16:59:53] \"GET /_dash-component-suites/dash/dash-renderer/build/dash_renderer.v2_7_0m1668192433.min.js HTTP/1.1\" 200 -\n",
      "127.0.0.1 - - [01/Dec/2022 16:59:53] \"GET /_dash-component-suites/dash/dcc/dash_core_components-shared.v2_7_0m1668192433.js HTTP/1.1\" 200 -\n",
      "127.0.0.1 - - [01/Dec/2022 16:59:53] \"GET /_dash-component-suites/dash/html/dash_html_components.v2_0_6m1668192434.min.js HTTP/1.1\" 200 -\n",
      "127.0.0.1 - - [01/Dec/2022 16:59:53] \"GET /_dash-component-suites/dash/dash_table/bundle.v5_2_0m1668192433.js HTTP/1.1\" 200 -\n",
      "127.0.0.1 - - [01/Dec/2022 16:59:53] \"GET /_dash-layout HTTP/1.1\" 200 -\n",
      "127.0.0.1 - - [01/Dec/2022 16:59:53] \"GET /_dash-dependencies HTTP/1.1\" 200 -\n",
      "127.0.0.1 - - [01/Dec/2022 16:59:53] \"GET /_favicon.ico?v=2.7.0 HTTP/1.1\" 200 -\n"
     ]
    }
   ],
   "source": [
    "from dash import html\n",
    "import dash_bootstrap_components as dbc\n",
    "import dash\n",
    "\n",
    "app = dash.Dash(__name__)\n",
    "\n",
    "app.layout = html.Div(\n",
    "    [\n",
    "        dbc.Row(\n",
    "            [\n",
    "                dbc.Col(html.Div(\"One of three columns\"), md=4),\n",
    "                dbc.Col(html.Div(\"One of three columns\"), md=4),\n",
    "                dbc.Col(html.Div(\"One of three columns\"), md=4),\n",
    "            ]\n",
    "        ),\n",
    "        dbc.Row(\n",
    "            [\n",
    "                dbc.Col(html.Div(\"One of four columns\"), width=6, lg=3),\n",
    "                dbc.Col(html.Div(\"One of four columns\"), width=6, lg=3),\n",
    "                dbc.Col(html.Div(\"One of four columns\"), width=6, lg=3),\n",
    "                dbc.Col(html.Div(\"One of four columns\"), width=6, lg=3),\n",
    "            ]\n",
    "        ),\n",
    "    ]\n",
    ")\n",
    "\n",
    "\n",
    "if __name__ == '__main__':\n",
    "    app.run_server(port = 8052)"
   ]
  },
  {
   "cell_type": "code",
   "execution_count": null,
   "metadata": {},
   "outputs": [],
   "source": []
  }
 ],
 "metadata": {
  "kernelspec": {
   "display_name": "Python 3.8.10 64-bit",
   "language": "python",
   "name": "python3"
  },
  "language_info": {
   "codemirror_mode": {
    "name": "ipython",
    "version": 3
   },
   "file_extension": ".py",
   "mimetype": "text/x-python",
   "name": "python",
   "nbconvert_exporter": "python",
   "pygments_lexer": "ipython3",
   "version": "3.8.10"
  },
  "orig_nbformat": 4,
  "vscode": {
   "interpreter": {
    "hash": "916dbcbb3f70747c44a77c7bcd40155683ae19c65e1c03b4aa3499c5328201f1"
   }
  }
 },
 "nbformat": 4,
 "nbformat_minor": 2
}
