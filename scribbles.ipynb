{
 "cells": [
  {
   "cell_type": "code",
   "execution_count": 180,
   "metadata": {},
   "outputs": [],
   "source": [
    "import pickle\n",
    "from utils import *\n",
    "import pandas as pd\n",
    "with open('df.pickle', 'rb') as dffile:\n",
    "        df,variables_each_country = pickle.load(dffile)\n"
   ]
  },
  {
   "cell_type": "code",
   "execution_count": 181,
   "metadata": {},
   "outputs": [],
   "source": [
    "from dash import html\n",
    "import dash_bootstrap_components as dbc\n",
    "import dash\n",
    "\n",
    "app = dash.Dash(__name__)\n",
    "\n",
    "app.layout = html.Div(\n",
    "    [\n",
    "        dbc.Row(\n",
    "            [\n",
    "                dbc.Col(html.Div(\"One of three columns\"), md=4),\n",
    "                dbc.Col(html.Div(\"One of three columns\"), md=4),\n",
    "                dbc.Col(html.Div(\"One of three columns\"), md=4),\n",
    "            ]\n",
    "        ),\n",
    "        dbc.Row(\n",
    "            [\n",
    "                dbc.Col(html.Div(\"One of four columns\"), width=6, lg=3),\n",
    "                dbc.Col(html.Div(\"One of four columns\"), width=6, lg=3),\n",
    "                dbc.Col(html.Div(\"One of four columns\"), width=6, lg=3),\n",
    "                dbc.Col(html.Div(\"One of four columns\"), width=6, lg=3),\n",
    "            ]\n",
    "        ),\n",
    "    ]\n",
    ")"
   ]
  },
  {
   "cell_type": "markdown",
   "metadata": {},
   "source": [
    "Traffic flow attempt\n"
   ]
  },
  {
   "cell_type": "code",
   "execution_count": 182,
   "metadata": {},
   "outputs": [
    {
     "data": {
      "text/html": [
       "<div>\n",
       "<style scoped>\n",
       "    .dataframe tbody tr th:only-of-type {\n",
       "        vertical-align: middle;\n",
       "    }\n",
       "\n",
       "    .dataframe tbody tr th {\n",
       "        vertical-align: top;\n",
       "    }\n",
       "\n",
       "    .dataframe thead th {\n",
       "        text-align: right;\n",
       "    }\n",
       "</style>\n",
       "<table border=\"1\" class=\"dataframe\">\n",
       "  <thead>\n",
       "    <tr style=\"text-align: right;\">\n",
       "      <th></th>\n",
       "      <th>unit</th>\n",
       "      <th>TIME_PERIOD</th>\n",
       "      <th>OBS_VALUE</th>\n",
       "    </tr>\n",
       "  </thead>\n",
       "  <tbody>\n",
       "    <tr>\n",
       "      <th>0</th>\n",
       "      <td>NR</td>\n",
       "      <td>2020-01</td>\n",
       "      <td>491291.0</td>\n",
       "    </tr>\n",
       "    <tr>\n",
       "      <th>1</th>\n",
       "      <td>NR</td>\n",
       "      <td>2020-02</td>\n",
       "      <td>466672.0</td>\n",
       "    </tr>\n",
       "    <tr>\n",
       "      <th>2</th>\n",
       "      <td>NR</td>\n",
       "      <td>2020-03</td>\n",
       "      <td>296362.0</td>\n",
       "    </tr>\n",
       "    <tr>\n",
       "      <th>3</th>\n",
       "      <td>NR</td>\n",
       "      <td>2020-04</td>\n",
       "      <td>51185.0</td>\n",
       "    </tr>\n",
       "    <tr>\n",
       "      <th>4</th>\n",
       "      <td>NR</td>\n",
       "      <td>2020-05</td>\n",
       "      <td>63922.0</td>\n",
       "    </tr>\n",
       "  </tbody>\n",
       "</table>\n",
       "</div>"
      ],
      "text/plain": [
       "  unit TIME_PERIOD  OBS_VALUE\n",
       "0   NR     2020-01   491291.0\n",
       "1   NR     2020-02   466672.0\n",
       "2   NR     2020-03   296362.0\n",
       "3   NR     2020-04    51185.0\n",
       "4   NR     2020-05    63922.0"
      ]
     },
     "execution_count": 182,
     "metadata": {},
     "output_type": "execute_result"
    }
   ],
   "source": [
    "airtraffic = pd.read_csv('avia_tf_cm__custom_1858764_page_linear.csv')\n",
    "\n",
    "airtraffic = airtraffic[['unit', 'TIME_PERIOD', 'OBS_VALUE']]\n",
    "airtraffic.head()"
   ]
  },
  {
   "cell_type": "code",
   "execution_count": 183,
   "metadata": {},
   "outputs": [],
   "source": [
    "with open('df.pickle', 'rb') as dffile:\n",
    "    covid,variables_each_country = pickle.load(dffile)\n",
    "covid = covid[covid['location'] == 'Europe']\n",
    "covid = covid[['date', 'new_cases', 'new_deaths','total_vaccinations']]\n",
    "covid_monthly =  get_month_df(covid)\n",
    "\n",
    "cc = covid_monthly.groupby(['month'],sort=False).mean().reset_index()\n",
    "\n",
    "cc = cc.truncate(after=23)\n",
    "airtraffic = airtraffic.truncate(after=23)\n",
    "airtraffic['new_cases'] = cc['new_cases']\n",
    "airtraffic['new_deaths'] = cc['new_deaths']\n",
    "airtraffic['total_vaccinations'] = cc['total_vaccinations']"
   ]
  },
  {
   "cell_type": "code",
   "execution_count": 194,
   "metadata": {},
   "outputs": [
    {
     "data": {
      "application/vnd.plotly.v1+json": {
       "config": {
        "plotlyServerURL": "https://plot.ly"
       },
       "data": [
        {
         "marker": {
          "color": "#3b6978"
         },
         "name": "Passengers traveling by plane",
         "type": "bar",
         "x": [
          "2020-01",
          "2020-02",
          "2020-03",
          "2020-04",
          "2020-05",
          "2020-06",
          "2020-07",
          "2020-08",
          "2020-09",
          "2020-10",
          "2020-11",
          "2020-12",
          "2021-01",
          "2021-02",
          "2021-03",
          "2021-04",
          "2021-05",
          "2021-06",
          "2021-07",
          "2021-08",
          "2021-09",
          "2021-10",
          "2021-11",
          "2021-12"
         ],
         "y": [
          491291,
          466672,
          296362,
          51185,
          63922,
          104769,
          256449,
          324538,
          274676,
          239026,
          159858,
          167005,
          156889,
          126019,
          152013,
          172831,
          210680,
          302274,
          443176,
          478996,
          444324,
          434815,
          374216,
          383764
         ]
        },
        {
         "marker": {
          "color": "#e63946"
         },
         "name": "monthly new COVID cases",
         "opacity": 0.8,
         "type": "scatter",
         "x": [
          "2020-01",
          "2020-02",
          "2020-03",
          "2020-04",
          "2020-05",
          "2020-06",
          "2020-07",
          "2020-08",
          "2020-09",
          "2020-10",
          "2020-11",
          "2020-12",
          "2021-01",
          "2021-02",
          "2021-03",
          "2021-04",
          "2021-05",
          "2021-06",
          "2021-07",
          "2021-08",
          "2021-09",
          "2021-10",
          "2021-11",
          "2021-12"
         ],
         "y": [
          1.8888888888888888,
          51,
          14631.516129032258,
          31077.266666666666,
          19489.677419354837,
          15146,
          14897.483870967742,
          24744.74193548387,
          48271.433333333334,
          156784.67741935485,
          247483.06666666668,
          210187.12903225806,
          214887.2258064516,
          145192.60714285713,
          181603.1935483871,
          168277.03333333333,
          77355.54838709677,
          45786.63333333333,
          114265.29032258065,
          124732.6129032258,
          124078.23333333334,
          178859.03225806452,
          307917.3,
          454304.70967741933
         ],
         "yaxis": "y2"
        },
        {
         "marker": {
          "color": "#975ea9"
         },
         "name": "monthly new COVID deaths",
         "opacity": 0.8,
         "type": "scatter",
         "x": [
          "2020-01",
          "2020-02",
          "2020-03",
          "2020-04",
          "2020-05",
          "2020-06",
          "2020-07",
          "2020-08",
          "2020-09",
          "2020-10",
          "2020-11",
          "2020-12",
          "2021-01",
          "2021-02",
          "2021-03",
          "2021-04",
          "2021-05",
          "2021-06",
          "2021-07",
          "2021-08",
          "2021-09",
          "2021-10",
          "2021-11",
          "2021-12"
         ],
         "y": [
          0.1111111111111111,
          1.1724137931034482,
          1086.1935483870968,
          3788.266666666667,
          1376.225806451613,
          506.53333333333336,
          347.7096774193548,
          325.35483870967744,
          504.2,
          1441.3225806451612,
          4361.9,
          4916.322580645161,
          5264.129032258064,
          3973.1071428571427,
          3250.6774193548385,
          3393,
          1870.6129032258063,
          1040.0333333333333,
          1001.741935483871,
          1320.6451612903227,
          1711.3,
          2562.516129032258,
          3771.233333333333,
          3615.1612903225805
         ],
         "yaxis": "y3"
        }
       ],
       "layout": {
        "images": [
         {
          "sizex": 0.45,
          "sizey": 0.45,
          "source": "airplane-clipart-transparent-7.png",
          "x": 0.65,
          "xanchor": "right",
          "xref": "paper",
          "y": 0.5,
          "yanchor": "bottom",
          "yref": "paper"
         }
        ],
        "legend": {
         "x": 0.5,
         "xanchor": "left",
         "y": 1.3,
         "yanchor": "top"
        },
        "template": {
         "data": {
          "bar": [
           {
            "error_x": {
             "color": "#2a3f5f"
            },
            "error_y": {
             "color": "#2a3f5f"
            },
            "marker": {
             "line": {
              "color": "white",
              "width": 0.5
             },
             "pattern": {
              "fillmode": "overlay",
              "size": 10,
              "solidity": 0.2
             }
            },
            "type": "bar"
           }
          ],
          "barpolar": [
           {
            "marker": {
             "line": {
              "color": "white",
              "width": 0.5
             },
             "pattern": {
              "fillmode": "overlay",
              "size": 10,
              "solidity": 0.2
             }
            },
            "type": "barpolar"
           }
          ],
          "carpet": [
           {
            "aaxis": {
             "endlinecolor": "#2a3f5f",
             "gridcolor": "#C8D4E3",
             "linecolor": "#C8D4E3",
             "minorgridcolor": "#C8D4E3",
             "startlinecolor": "#2a3f5f"
            },
            "baxis": {
             "endlinecolor": "#2a3f5f",
             "gridcolor": "#C8D4E3",
             "linecolor": "#C8D4E3",
             "minorgridcolor": "#C8D4E3",
             "startlinecolor": "#2a3f5f"
            },
            "type": "carpet"
           }
          ],
          "choropleth": [
           {
            "colorbar": {
             "outlinewidth": 0,
             "ticks": ""
            },
            "type": "choropleth"
           }
          ],
          "contour": [
           {
            "colorbar": {
             "outlinewidth": 0,
             "ticks": ""
            },
            "colorscale": [
             [
              0,
              "#0d0887"
             ],
             [
              0.1111111111111111,
              "#46039f"
             ],
             [
              0.2222222222222222,
              "#7201a8"
             ],
             [
              0.3333333333333333,
              "#9c179e"
             ],
             [
              0.4444444444444444,
              "#bd3786"
             ],
             [
              0.5555555555555556,
              "#d8576b"
             ],
             [
              0.6666666666666666,
              "#ed7953"
             ],
             [
              0.7777777777777778,
              "#fb9f3a"
             ],
             [
              0.8888888888888888,
              "#fdca26"
             ],
             [
              1,
              "#f0f921"
             ]
            ],
            "type": "contour"
           }
          ],
          "contourcarpet": [
           {
            "colorbar": {
             "outlinewidth": 0,
             "ticks": ""
            },
            "type": "contourcarpet"
           }
          ],
          "heatmap": [
           {
            "colorbar": {
             "outlinewidth": 0,
             "ticks": ""
            },
            "colorscale": [
             [
              0,
              "#0d0887"
             ],
             [
              0.1111111111111111,
              "#46039f"
             ],
             [
              0.2222222222222222,
              "#7201a8"
             ],
             [
              0.3333333333333333,
              "#9c179e"
             ],
             [
              0.4444444444444444,
              "#bd3786"
             ],
             [
              0.5555555555555556,
              "#d8576b"
             ],
             [
              0.6666666666666666,
              "#ed7953"
             ],
             [
              0.7777777777777778,
              "#fb9f3a"
             ],
             [
              0.8888888888888888,
              "#fdca26"
             ],
             [
              1,
              "#f0f921"
             ]
            ],
            "type": "heatmap"
           }
          ],
          "heatmapgl": [
           {
            "colorbar": {
             "outlinewidth": 0,
             "ticks": ""
            },
            "colorscale": [
             [
              0,
              "#0d0887"
             ],
             [
              0.1111111111111111,
              "#46039f"
             ],
             [
              0.2222222222222222,
              "#7201a8"
             ],
             [
              0.3333333333333333,
              "#9c179e"
             ],
             [
              0.4444444444444444,
              "#bd3786"
             ],
             [
              0.5555555555555556,
              "#d8576b"
             ],
             [
              0.6666666666666666,
              "#ed7953"
             ],
             [
              0.7777777777777778,
              "#fb9f3a"
             ],
             [
              0.8888888888888888,
              "#fdca26"
             ],
             [
              1,
              "#f0f921"
             ]
            ],
            "type": "heatmapgl"
           }
          ],
          "histogram": [
           {
            "marker": {
             "pattern": {
              "fillmode": "overlay",
              "size": 10,
              "solidity": 0.2
             }
            },
            "type": "histogram"
           }
          ],
          "histogram2d": [
           {
            "colorbar": {
             "outlinewidth": 0,
             "ticks": ""
            },
            "colorscale": [
             [
              0,
              "#0d0887"
             ],
             [
              0.1111111111111111,
              "#46039f"
             ],
             [
              0.2222222222222222,
              "#7201a8"
             ],
             [
              0.3333333333333333,
              "#9c179e"
             ],
             [
              0.4444444444444444,
              "#bd3786"
             ],
             [
              0.5555555555555556,
              "#d8576b"
             ],
             [
              0.6666666666666666,
              "#ed7953"
             ],
             [
              0.7777777777777778,
              "#fb9f3a"
             ],
             [
              0.8888888888888888,
              "#fdca26"
             ],
             [
              1,
              "#f0f921"
             ]
            ],
            "type": "histogram2d"
           }
          ],
          "histogram2dcontour": [
           {
            "colorbar": {
             "outlinewidth": 0,
             "ticks": ""
            },
            "colorscale": [
             [
              0,
              "#0d0887"
             ],
             [
              0.1111111111111111,
              "#46039f"
             ],
             [
              0.2222222222222222,
              "#7201a8"
             ],
             [
              0.3333333333333333,
              "#9c179e"
             ],
             [
              0.4444444444444444,
              "#bd3786"
             ],
             [
              0.5555555555555556,
              "#d8576b"
             ],
             [
              0.6666666666666666,
              "#ed7953"
             ],
             [
              0.7777777777777778,
              "#fb9f3a"
             ],
             [
              0.8888888888888888,
              "#fdca26"
             ],
             [
              1,
              "#f0f921"
             ]
            ],
            "type": "histogram2dcontour"
           }
          ],
          "mesh3d": [
           {
            "colorbar": {
             "outlinewidth": 0,
             "ticks": ""
            },
            "type": "mesh3d"
           }
          ],
          "parcoords": [
           {
            "line": {
             "colorbar": {
              "outlinewidth": 0,
              "ticks": ""
             }
            },
            "type": "parcoords"
           }
          ],
          "pie": [
           {
            "automargin": true,
            "type": "pie"
           }
          ],
          "scatter": [
           {
            "fillpattern": {
             "fillmode": "overlay",
             "size": 10,
             "solidity": 0.2
            },
            "type": "scatter"
           }
          ],
          "scatter3d": [
           {
            "line": {
             "colorbar": {
              "outlinewidth": 0,
              "ticks": ""
             }
            },
            "marker": {
             "colorbar": {
              "outlinewidth": 0,
              "ticks": ""
             }
            },
            "type": "scatter3d"
           }
          ],
          "scattercarpet": [
           {
            "marker": {
             "colorbar": {
              "outlinewidth": 0,
              "ticks": ""
             }
            },
            "type": "scattercarpet"
           }
          ],
          "scattergeo": [
           {
            "marker": {
             "colorbar": {
              "outlinewidth": 0,
              "ticks": ""
             }
            },
            "type": "scattergeo"
           }
          ],
          "scattergl": [
           {
            "marker": {
             "colorbar": {
              "outlinewidth": 0,
              "ticks": ""
             }
            },
            "type": "scattergl"
           }
          ],
          "scattermapbox": [
           {
            "marker": {
             "colorbar": {
              "outlinewidth": 0,
              "ticks": ""
             }
            },
            "type": "scattermapbox"
           }
          ],
          "scatterpolar": [
           {
            "marker": {
             "colorbar": {
              "outlinewidth": 0,
              "ticks": ""
             }
            },
            "type": "scatterpolar"
           }
          ],
          "scatterpolargl": [
           {
            "marker": {
             "colorbar": {
              "outlinewidth": 0,
              "ticks": ""
             }
            },
            "type": "scatterpolargl"
           }
          ],
          "scatterternary": [
           {
            "marker": {
             "colorbar": {
              "outlinewidth": 0,
              "ticks": ""
             }
            },
            "type": "scatterternary"
           }
          ],
          "surface": [
           {
            "colorbar": {
             "outlinewidth": 0,
             "ticks": ""
            },
            "colorscale": [
             [
              0,
              "#0d0887"
             ],
             [
              0.1111111111111111,
              "#46039f"
             ],
             [
              0.2222222222222222,
              "#7201a8"
             ],
             [
              0.3333333333333333,
              "#9c179e"
             ],
             [
              0.4444444444444444,
              "#bd3786"
             ],
             [
              0.5555555555555556,
              "#d8576b"
             ],
             [
              0.6666666666666666,
              "#ed7953"
             ],
             [
              0.7777777777777778,
              "#fb9f3a"
             ],
             [
              0.8888888888888888,
              "#fdca26"
             ],
             [
              1,
              "#f0f921"
             ]
            ],
            "type": "surface"
           }
          ],
          "table": [
           {
            "cells": {
             "fill": {
              "color": "#EBF0F8"
             },
             "line": {
              "color": "white"
             }
            },
            "header": {
             "fill": {
              "color": "#C8D4E3"
             },
             "line": {
              "color": "white"
             }
            },
            "type": "table"
           }
          ]
         },
         "layout": {
          "annotationdefaults": {
           "arrowcolor": "#2a3f5f",
           "arrowhead": 0,
           "arrowwidth": 1
          },
          "autotypenumbers": "strict",
          "coloraxis": {
           "colorbar": {
            "outlinewidth": 0,
            "ticks": ""
           }
          },
          "colorscale": {
           "diverging": [
            [
             0,
             "#8e0152"
            ],
            [
             0.1,
             "#c51b7d"
            ],
            [
             0.2,
             "#de77ae"
            ],
            [
             0.3,
             "#f1b6da"
            ],
            [
             0.4,
             "#fde0ef"
            ],
            [
             0.5,
             "#f7f7f7"
            ],
            [
             0.6,
             "#e6f5d0"
            ],
            [
             0.7,
             "#b8e186"
            ],
            [
             0.8,
             "#7fbc41"
            ],
            [
             0.9,
             "#4d9221"
            ],
            [
             1,
             "#276419"
            ]
           ],
           "sequential": [
            [
             0,
             "#0d0887"
            ],
            [
             0.1111111111111111,
             "#46039f"
            ],
            [
             0.2222222222222222,
             "#7201a8"
            ],
            [
             0.3333333333333333,
             "#9c179e"
            ],
            [
             0.4444444444444444,
             "#bd3786"
            ],
            [
             0.5555555555555556,
             "#d8576b"
            ],
            [
             0.6666666666666666,
             "#ed7953"
            ],
            [
             0.7777777777777778,
             "#fb9f3a"
            ],
            [
             0.8888888888888888,
             "#fdca26"
            ],
            [
             1,
             "#f0f921"
            ]
           ],
           "sequentialminus": [
            [
             0,
             "#0d0887"
            ],
            [
             0.1111111111111111,
             "#46039f"
            ],
            [
             0.2222222222222222,
             "#7201a8"
            ],
            [
             0.3333333333333333,
             "#9c179e"
            ],
            [
             0.4444444444444444,
             "#bd3786"
            ],
            [
             0.5555555555555556,
             "#d8576b"
            ],
            [
             0.6666666666666666,
             "#ed7953"
            ],
            [
             0.7777777777777778,
             "#fb9f3a"
            ],
            [
             0.8888888888888888,
             "#fdca26"
            ],
            [
             1,
             "#f0f921"
            ]
           ]
          },
          "colorway": [
           "#636efa",
           "#EF553B",
           "#00cc96",
           "#ab63fa",
           "#FFA15A",
           "#19d3f3",
           "#FF6692",
           "#B6E880",
           "#FF97FF",
           "#FECB52"
          ],
          "font": {
           "color": "#2a3f5f"
          },
          "geo": {
           "bgcolor": "white",
           "lakecolor": "white",
           "landcolor": "white",
           "showlakes": true,
           "showland": true,
           "subunitcolor": "#C8D4E3"
          },
          "hoverlabel": {
           "align": "left"
          },
          "hovermode": "closest",
          "mapbox": {
           "style": "light"
          },
          "paper_bgcolor": "white",
          "plot_bgcolor": "white",
          "polar": {
           "angularaxis": {
            "gridcolor": "#EBF0F8",
            "linecolor": "#EBF0F8",
            "ticks": ""
           },
           "bgcolor": "white",
           "radialaxis": {
            "gridcolor": "#EBF0F8",
            "linecolor": "#EBF0F8",
            "ticks": ""
           }
          },
          "scene": {
           "xaxis": {
            "backgroundcolor": "white",
            "gridcolor": "#DFE8F3",
            "gridwidth": 2,
            "linecolor": "#EBF0F8",
            "showbackground": true,
            "ticks": "",
            "zerolinecolor": "#EBF0F8"
           },
           "yaxis": {
            "backgroundcolor": "white",
            "gridcolor": "#DFE8F3",
            "gridwidth": 2,
            "linecolor": "#EBF0F8",
            "showbackground": true,
            "ticks": "",
            "zerolinecolor": "#EBF0F8"
           },
           "zaxis": {
            "backgroundcolor": "white",
            "gridcolor": "#DFE8F3",
            "gridwidth": 2,
            "linecolor": "#EBF0F8",
            "showbackground": true,
            "ticks": "",
            "zerolinecolor": "#EBF0F8"
           }
          },
          "shapedefaults": {
           "line": {
            "color": "#2a3f5f"
           }
          },
          "ternary": {
           "aaxis": {
            "gridcolor": "#DFE8F3",
            "linecolor": "#A2B1C6",
            "ticks": ""
           },
           "baxis": {
            "gridcolor": "#DFE8F3",
            "linecolor": "#A2B1C6",
            "ticks": ""
           },
           "bgcolor": "white",
           "caxis": {
            "gridcolor": "#DFE8F3",
            "linecolor": "#A2B1C6",
            "ticks": ""
           }
          },
          "title": {
           "x": 0.05
          },
          "xaxis": {
           "automargin": true,
           "gridcolor": "#EBF0F8",
           "linecolor": "#EBF0F8",
           "ticks": "",
           "title": {
            "standoff": 15
           },
           "zerolinecolor": "#EBF0F8",
           "zerolinewidth": 2
          },
          "yaxis": {
           "automargin": true,
           "gridcolor": "#EBF0F8",
           "linecolor": "#EBF0F8",
           "ticks": "",
           "title": {
            "standoff": 15
           },
           "zerolinecolor": "#EBF0F8",
           "zerolinewidth": 2
          }
         }
        },
        "width": 1000,
        "xaxis": {
         "domain": [
          0.2,
          0.9
         ]
        },
        "yaxis": {
         "tickfont": {
          "color": "#3b6978"
         },
         "title": {
          "font": {
           "color": "#3b6978"
          },
          "text": "Monthly Air Passengers"
         }
        },
        "yaxis2": {
         "anchor": "free",
         "overlaying": "y",
         "position": 1,
         "side": "right",
         "tickfont": {
          "color": "#e63946"
         },
         "title": {
          "font": {
           "color": "#e63946"
          },
          "text": "Monthly new COVID cases"
         }
        },
        "yaxis3": {
         "anchor": "free",
         "overlaying": "y",
         "position": 0.9,
         "side": "right",
         "tickfont": {
          "color": "#975ea9"
         },
         "title": {
          "font": {
           "color": "#975ea9"
          },
          "text": "Monthly new COVID deaths"
         }
        }
       }
      }
     },
     "metadata": {},
     "output_type": "display_data"
    }
   ],
   "source": [
    "# import plotly.express as px\n",
    "# import plotly.graph_objects as go\n",
    "# color_bins = '#3b6978' \n",
    "# color_line1 = '#e63946'\n",
    "# color_line2 = '#975ea9'\n",
    "# background = '#d1dcff'\n",
    "\n",
    "# fig = go.Figure()\n",
    "\n",
    "# fig.add_layout_image(\n",
    "#     dict(\n",
    "#         source=\"airplane-clipart-transparent-7.png\",\n",
    "#         xref=\"paper\", yref=\"paper\",\n",
    "#         x=0.65, y=0.5,\n",
    "#         sizex=0.45, sizey=0.45,\n",
    "#         xanchor=\"right\", yanchor=\"bottom\"\n",
    "#     )\n",
    "# )\n",
    "\n",
    "# fig.add_trace(go.Bar(x=airtraffic['TIME_PERIOD'], y=airtraffic['OBS_VALUE'], name='Passengers traveling by plane', marker_color = color_bins))\n",
    "# fig.add_trace(go.Scatter(x=airtraffic['TIME_PERIOD'], y=airtraffic['new_cases'], name='monthly new COVID cases', yaxis = 'y2', marker_color = color_line1,opacity=0.8))\n",
    "# fig.add_trace(go.Scatter(x=airtraffic['TIME_PERIOD'], y=airtraffic['new_deaths'], name='monthly new COVID deaths', yaxis = 'y3', marker_color = color_line2, opacity=0.8))\n",
    "\n",
    "# fig.update_layout(xaxis=dict(domain=[0.2, 0.9]),\n",
    "#     yaxis = dict(title=\"Monthly Air Passengers\", titlefont=dict(color=color_bins,),tickfont=dict(\n",
    "#             color=color_bins\n",
    "#         )), \n",
    "#          yaxis2=dict(\n",
    "#         title=\"Monthly new COVID cases\",\n",
    "#         titlefont=dict(\n",
    "#             color=color_line1\n",
    "#         ),\n",
    "#         tickfont=dict(\n",
    "#             color=color_line1\n",
    "#         ),\n",
    "#         anchor=\"free\",\n",
    "#         overlaying=\"y\",\n",
    "#         side=\"right\",\n",
    "#         position=1\n",
    "#     ),\n",
    "#     yaxis3=dict(\n",
    "#         title=\"Monthly new COVID deaths\",\n",
    "#         titlefont=dict(\n",
    "#             color=color_line2\n",
    "#         ),\n",
    "#         tickfont=dict(\n",
    "#             color=color_line2\n",
    "#         ),\n",
    "#         anchor=\"free\",\n",
    "#         overlaying=\"y\",\n",
    "#         side=\"right\",\n",
    "#         position=0.9\n",
    "#     ))\n",
    "\n",
    "\n",
    "# fig.update_layout(template = 'plotly_white', width=1000,\n",
    "# legend=dict(\n",
    "#     yanchor=\"top\",\n",
    "#     y=1.3,\n",
    "#     xanchor=\"left\",\n",
    "#     x=0.5\n",
    "# ) \n",
    "# )\n",
    "\n",
    "\n",
    "# fig.show()"
   ]
  },
  {
   "cell_type": "code",
   "execution_count": 8,
   "metadata": {},
   "outputs": [
    {
     "name": "stdout",
     "output_type": "stream",
     "text": [
      "Dash is running on http://127.0.0.1:9010/\n",
      "\n",
      "Dash is running on http://127.0.0.1:9010/\n",
      "\n",
      "Dash is running on http://127.0.0.1:9010/\n",
      "\n",
      "Dash is running on http://127.0.0.1:9010/\n",
      "\n",
      "Dash is running on http://127.0.0.1:9010/\n",
      "\n",
      "Dash is running on http://127.0.0.1:9010/\n",
      "\n",
      " * Serving Flask app '__main__'\n",
      " * Debug mode: off\n"
     ]
    }
   ],
   "source": [
    "import dash_bootstrap_components as dbc\n",
    "from dash import html\n",
    "import dash\n",
    "external_stylesheets = [dbc.themes.BOOTSTRAP]\n",
    "app = dash.Dash(__name__,external_stylesheets=external_stylesheets)\n",
    "app.layout = html.Div(\n",
    "    [\n",
    "        dbc.Row(\n",
    "            dbc.Col(\n",
    "                html.Div(\"A single, half-width column\"),\n",
    "                width={\"size\": 6, \"offset\": 3},\n",
    "            )\n",
    "        ),\n",
    "        dbc.Row(\n",
    "            [\n",
    "                dbc.Col(\n",
    "                    html.Div(\"The last of three columns\"),\n",
    "                    width={\"size\": 3, \"order\": \"last\", \"offset\": 1},\n",
    "                ),\n",
    "                dbc.Col(\n",
    "                    html.Div(\"The first of three columns2\"),\n",
    "                    width={\"size\": 3, \"order\": 1, \"offset\": 2},\n",
    "                ),\n",
    "                dbc.Col(\n",
    "                    html.Div(\"The second of three columns\"),\n",
    "                    width={\"size\": 3, \"order\": 5},\n",
    "                ),\n",
    "            ]\n",
    "        ),\n",
    "    ]\n",
    ")\n",
    "\n",
    "if __name__ == \"__main__\":\n",
    "    app.run_server(port=9010)"
   ]
  },
  {
   "cell_type": "code",
   "execution_count": 2,
   "metadata": {},
   "outputs": [
    {
     "name": "stdout",
     "output_type": "stream",
     "text": [
      "Dash is running on http://127.0.0.1:9999/\n",
      "\n",
      "Dash is running on http://127.0.0.1:9999/\n",
      "\n",
      " * Serving Flask app '__main__'\n",
      " * Debug mode: off\n"
     ]
    },
    {
     "name": "stderr",
     "output_type": "stream",
     "text": [
      "WARNING: This is a development server. Do not use it in a production deployment. Use a production WSGI server instead.\n",
      " * Running on http://127.0.0.1:9999\n",
      "Press CTRL+C to quit\n",
      "127.0.0.1 - - [04/Dec/2022 22:23:46] \"GET / HTTP/1.1\" 200 -\n",
      "127.0.0.1 - - [04/Dec/2022 22:23:46] \"GET /_dash-component-suites/dash/deps/polyfill@7.v2_7_0m1668192434.12.1.min.js HTTP/1.1\" 200 -\n",
      "127.0.0.1 - - [04/Dec/2022 22:23:46] \"GET /_dash-component-suites/dash/deps/react@16.v2_7_0m1668192434.14.0.min.js HTTP/1.1\" 200 -\n",
      "127.0.0.1 - - [04/Dec/2022 22:23:46] \"GET /_dash-component-suites/dash/deps/react-dom@16.v2_7_0m1668192434.14.0.min.js HTTP/1.1\" 200 -\n",
      "127.0.0.1 - - [04/Dec/2022 22:23:46] \"GET /_dash-component-suites/dash/deps/prop-types@15.v2_7_0m1668192434.8.1.min.js HTTP/1.1\" 200 -\n",
      "127.0.0.1 - - [04/Dec/2022 22:23:46] \"GET /_dash-component-suites/dash_bootstrap_components/_components/dash_bootstrap_components.v1_2_1m1668192486.min.js HTTP/1.1\" 200 -\n",
      "127.0.0.1 - - [04/Dec/2022 22:23:46] \"GET /_dash-component-suites/dash/dash-renderer/build/dash_renderer.v2_7_0m1668192433.min.js HTTP/1.1\" 200 -\n",
      "127.0.0.1 - - [04/Dec/2022 22:23:46] \"GET /_dash-component-suites/dash/dcc/dash_core_components.v2_7_0m1668192433.js HTTP/1.1\" 200 -\n",
      "127.0.0.1 - - [04/Dec/2022 22:23:46] \"GET /_dash-component-suites/dash/dcc/dash_core_components-shared.v2_7_0m1668192433.js HTTP/1.1\" 200 -\n",
      "127.0.0.1 - - [04/Dec/2022 22:23:46] \"GET /_dash-component-suites/dash/dash_table/bundle.v5_2_0m1668192433.js HTTP/1.1\" 200 -\n",
      "127.0.0.1 - - [04/Dec/2022 22:23:46] \"GET /_dash-component-suites/dash/html/dash_html_components.v2_0_6m1668192434.min.js HTTP/1.1\" 200 -\n",
      "127.0.0.1 - - [04/Dec/2022 22:23:51] \"GET /_favicon.ico?v=2.7.0 HTTP/1.1\" 200 -\n",
      "127.0.0.1 - - [04/Dec/2022 22:23:51] \"GET /_dash-layout HTTP/1.1\" 200 -\n",
      "127.0.0.1 - - [04/Dec/2022 22:23:51] \"GET /_dash-dependencies HTTP/1.1\" 200 -\n"
     ]
    }
   ],
   "source": [
    "import dash_bootstrap_components as dbc\n",
    "from dash import html\n",
    "import dash\n",
    "external_stylesheets = [dbc.themes.BOOTSTRAP]\n",
    "app = dash.Dash(__name__,external_stylesheets=external_stylesheets)\n",
    "\n",
    "app.layout=html.Div([dbc.Row([\n",
    "      dbc.Col(['hello']),\n",
    "     dbc.Col([dbc.Row(['hello']),dbc.Row(['hello'])]),\n",
    "    \n",
    "]),\n",
    "dbc.Row([dbc.Col(['hello']),dbc.Col(['hello'])])])\n",
    "\n",
    "if __name__ == \"__main__\":\n",
    "    app.run_server(port=9999)"
   ]
  },
  {
   "cell_type": "code",
   "execution_count": 17,
   "metadata": {},
   "outputs": [],
   "source": [
    "from dash import Dash, html, dcc, Input, Output, State, dash_table\n",
    "from sklearn import linear_model\n",
    "import plotly.express as px\n",
    "from datetime import datetime, timedelta\n",
    "from plotly.subplots import make_subplots\n",
    "import random\n",
    "import plotly.graph_objects as go\n",
    "from utils import *\n",
    "import warnings\n",
    "import pickle\n",
    "import numpy as np\n",
    "import dash_bootstrap_components as dbc\n",
    "from PIL import Image\n",
    "\n",
    "warnings.filterwarnings('ignore')\n",
    "\n",
    "img = Image.open('/home/jlarija/Documents/Academics/Data Analysis and Visualisation/FinalProject/DataVisualisationProject/airplane-clipart-transparent-7.png')\n",
    "\n",
    "# Comment the next line and uncomment the 3 after to do your tests to avoid loading time, but the nans might fail your\n",
    "# tests\n",
    "# df, variables_each_country = get_preprocessed_df()\n",
    "# url = 'https://covid.ourworldindata.org/data/owid-covid-data.csv'\n",
    "# df = pd.read_csv(url)\n",
    "# variables_each_country = get_var_each_country()\n",
    "\n",
    "with open('df.pickle', 'rb') as dffile:\n",
    "    df, variables_each_country = pickle.load(dffile)\n",
    "\n",
    "fifa_df = get_fifa_data(df)\n",
    "\n",
    "def fifa_plot(df):\n",
    "\n",
    "    fig = px.scatter(df, x = 'total_cases_rank',  y = 'fifa_rank',\n",
    "    hover_name = 'country_abrv',\n",
    "    hover_data =['fifa_rank', 'total_cases_rank']\n",
    "    )\n",
    "\n",
    "    fig.update_traces(marker_color = '#000000')\n",
    "\n",
    "    min_dim = df[['fifa_rank', 'total_cases_rank']].max().idxmax()\n",
    "    maxi = df[min_dim].max()\n",
    "    for i, row in df.iterrows():\n",
    "        country_iso = row['iso_2']\n",
    "        fig.add_layout_image(\n",
    "            dict(\n",
    "                source=f\"https://raw.githubusercontent.com/matahombres/CSS-Country-Flags-Rounded/master/flags/{country_iso}.png\",\n",
    "                xref=\"x\",\n",
    "                yref=\"y\",\n",
    "                xanchor=\"center\",\n",
    "                yanchor=\"middle\",\n",
    "                x=row[\"total_cases_rank\"],\n",
    "                y=row[\"fifa_rank\"],\n",
    "                sizex=np.sqrt(row[\"total_cases\"] / df[\"total_cases\"].max()) * maxi * 0.025 + maxi * 0.03,\n",
    "                sizey=np.sqrt(row[\"total_cases\"] / df[\"total_cases\"].max()) * maxi * 0.025+ maxi * 0.03,\n",
    "                sizing=\"contain\",\n",
    "                opacity=0.95,\n",
    "                layer=\"above\"\n",
    "            )\n",
    "        ) \n",
    "\n",
    "\n",
    "    fig.update_layout(\n",
    "        title_text=\"COVID cases on 09-04-2020 vs Fifa World Ranking for the same date\",\n",
    "        height=600, width=1000, plot_bgcolor=\"#FFFFFF\")\n",
    "\n",
    "\n",
    "    # Set y-axes titles\n",
    "    fig.update_yaxes(title_text=\"<b>Fifa Rank</b>\", showgrid = True, \n",
    "    griddash = 'dash', gridcolor = '#D4D4D4')\n",
    "    fig.update_xaxes(title_text=\"<b>COVID Cases Rank</b>\", showgrid = True, \n",
    "    griddash = 'dash', gridcolor = '#D4D4D4')\n",
    "\n",
    "    return fig\n",
    "\n",
    "def plane_data_plot(df):\n",
    "\n",
    "    airtraffic = pd.read_csv('avia_tf_cm__custom_1858764_page_linear.csv')\n",
    "    airtraffic = airtraffic[['unit', 'TIME_PERIOD', 'OBS_VALUE']]  \n",
    "    covid = df[df['location'] == 'Europe']\n",
    "    covid = covid[['date', 'new_cases', 'new_deaths','total_vaccinations']]\n",
    "    covid_monthly =  get_month_df(covid)\n",
    "    cc = covid_monthly.groupby(['month'],sort=False).mean().reset_index()\n",
    "    cc = cc.truncate(after=23)\n",
    "    airtraffic = airtraffic.truncate(after=23)\n",
    "    airtraffic['new_cases'] = cc['new_cases']\n",
    "    airtraffic['new_deaths'] = cc['new_deaths']\n",
    "    airtraffic['total_vaccinations'] = cc['total_vaccinations']\n",
    "\n",
    "    color_bins = '#3b6978' \n",
    "    color_line1 = '#e63946'\n",
    "    color_line2 = '#975ea9'\n",
    "\n",
    "    fig = go.Figure()\n",
    "\n",
    "    \n",
    "\n",
    "    fig.add_trace(go.Bar(x=airtraffic['TIME_PERIOD'], y=airtraffic['OBS_VALUE'], name='Passengers traveling by plane', marker_color = color_bins))\n",
    "    fig.add_trace(go.Scatter(x=airtraffic['TIME_PERIOD'], y=airtraffic['new_cases'], name='monthly new COVID cases', yaxis = 'y2', marker_color = color_line1,opacity=0.8))\n",
    "    fig.add_trace(go.Scatter(x=airtraffic['TIME_PERIOD'], y=airtraffic['new_deaths'], name='monthly new COVID deaths', yaxis = 'y3', marker_color = color_line2, opacity=0.8))\n",
    "\n",
    "    fig.update_layout(xaxis=dict(domain=[0.2, 0.9]),\n",
    "        yaxis = dict(title=\"Monthly Air Passengers\", titlefont=dict(color=color_bins,),tickfont=dict(\n",
    "                color=color_bins\n",
    "            )), \n",
    "            yaxis2=dict(\n",
    "            title=\"Monthly new COVID cases\",\n",
    "            titlefont=dict(\n",
    "                color=color_line1\n",
    "            ),\n",
    "            tickfont=dict(\n",
    "                color=color_line1\n",
    "            ),\n",
    "            anchor=\"free\",\n",
    "            overlaying=\"y\",\n",
    "            side=\"right\",\n",
    "            position=1\n",
    "        ),\n",
    "        yaxis3=dict(\n",
    "            title=\"Monthly new COVID deaths\",\n",
    "            titlefont=dict(\n",
    "                color=color_line2\n",
    "            ),\n",
    "            tickfont=dict(\n",
    "                color=color_line2\n",
    "            ),\n",
    "            anchor=\"free\",\n",
    "            overlaying=\"y\",\n",
    "            side=\"right\",\n",
    "            position=0.9\n",
    "        ))\n",
    "\n",
    "\n",
    "    fig.update_layout(template = 'plotly_white', width=1000,\n",
    "    legend=dict(\n",
    "        yanchor=\"top\",\n",
    "        y=1.3,\n",
    "        xanchor=\"left\",\n",
    "        x=0.5\n",
    "    ) \n",
    "    )\n",
    "\n",
    "    fig.add_layout_image(\n",
    "        dict(\n",
    "            source=img,\n",
    "            xref=\"paper\", yref=\"paper\",\n",
    "            x=0.65, y=0.5,\n",
    "            sizex=0.45, sizey=0.45,\n",
    "            xanchor=\"right\", yanchor=\"bottom\"\n",
    "        )\n",
    "    )\n",
    "    \n",
    "    return fig\n",
    "\n",
    "all_col = list(df.columns)\n",
    "for col in columns_to_remove:\n",
    "    all_col.remove(col)\n",
    "\n",
    "original_df = df\n",
    "constraint_added = []\n",
    "none_all_col = columns_fixed.copy()\n",
    "none_all_col.insert(0, 'None')\n",
    "\n",
    "variables_first_country = variables_each_country[df['location'][0]]\n",
    "\n",
    "months_list = get_list_months(df)\n",
    "slider_months = [month[:3] + month[5:] for month in months_list]\n",
    "months_df = get_month_df(df)\n",
    "\n",
    "trust_df = pd.read_csv('share-who-trust-government.csv')\n",
    "trust_df = trust_df.drop(['Code', 'Year'], axis=1)\n",
    "trust_df.columns = ['location', 'trust_in_gov']\n",
    "for countr in df['location'].unique():\n",
    "    if countr not in list(trust_df['location']):\n",
    "        trust_df.loc[len(trust_df)] = [countr, float(\"nan\")]\n",
    "\n",
    "col_fixed_new_df = columns_fixed.copy()\n",
    "col_fixed_new_df.insert(0, 'trust_in_gov')\n",
    "\n",
    "col_geomap = all_col.copy()\n",
    "for column in col_geomap:\n",
    "    col_geomap.remove(column)\n",
    "\n",
    "      \n",
    "\n"
   ]
  },
  {
   "cell_type": "code",
   "execution_count": 19,
   "metadata": {},
   "outputs": [],
   "source": [
    "from copy_dashboard import *"
   ]
  },
  {
   "cell_type": "code",
   "execution_count": 18,
   "metadata": {},
   "outputs": [
    {
     "name": "stdout",
     "output_type": "stream",
     "text": [
      "Dash is running on http://127.0.0.1:9025/\n",
      "\n",
      "Dash is running on http://127.0.0.1:9025/\n",
      "\n",
      "Dash is running on http://127.0.0.1:9025/\n",
      "\n",
      "Dash is running on http://127.0.0.1:9025/\n",
      "\n",
      "Dash is running on http://127.0.0.1:9025/\n",
      "\n",
      "Dash is running on http://127.0.0.1:9025/\n",
      "\n",
      "Dash is running on http://127.0.0.1:9025/\n",
      "\n",
      "Dash is running on http://127.0.0.1:9025/\n",
      "\n",
      "Dash is running on http://127.0.0.1:9025/\n",
      "\n",
      "Dash is running on http://127.0.0.1:9025/\n",
      "\n",
      "Dash is running on http://127.0.0.1:9025/\n",
      "\n",
      "Dash is running on http://127.0.0.1:9025/\n",
      "\n",
      " * Serving Flask app '__main__'\n",
      " * Debug mode: off\n"
     ]
    },
    {
     "name": "stderr",
     "output_type": "stream",
     "text": [
      "WARNING: This is a development server. Do not use it in a production deployment. Use a production WSGI server instead.\n",
      " * Running on http://127.0.0.1:9025\n",
      "Press CTRL+C to quit\n",
      "127.0.0.1 - - [05/Dec/2022 14:13:22] \"GET / HTTP/1.1\" 200 -\n",
      "127.0.0.1 - - [05/Dec/2022 14:13:22] \"GET /_dash-component-suites/dash/deps/react@16.v2_7_0m1668192434.14.0.min.js HTTP/1.1\" 200 -\n",
      "127.0.0.1 - - [05/Dec/2022 14:13:22] \"GET /_dash-component-suites/dash/deps/polyfill@7.v2_7_0m1668192434.12.1.min.js HTTP/1.1\" 200 -\n",
      "127.0.0.1 - - [05/Dec/2022 14:13:22] \"GET /_dash-component-suites/dash/deps/react-dom@16.v2_7_0m1668192434.14.0.min.js HTTP/1.1\" 200 -\n",
      "127.0.0.1 - - [05/Dec/2022 14:13:22] \"GET /_dash-component-suites/dash/deps/prop-types@15.v2_7_0m1668192434.8.1.min.js HTTP/1.1\" 200 -\n",
      "127.0.0.1 - - [05/Dec/2022 14:13:22] \"GET /_dash-component-suites/dash_bootstrap_components/_components/dash_bootstrap_components.v1_2_1m1668192486.min.js HTTP/1.1\" 200 -\n",
      "127.0.0.1 - - [05/Dec/2022 14:13:22] \"GET /_dash-component-suites/dash/dash-renderer/build/dash_renderer.v2_7_0m1668192433.min.js HTTP/1.1\" 200 -\n",
      "127.0.0.1 - - [05/Dec/2022 14:13:22] \"GET /_dash-component-suites/dash/dcc/dash_core_components.v2_7_0m1668192433.js HTTP/1.1\" 200 -\n",
      "127.0.0.1 - - [05/Dec/2022 14:13:22] \"GET /_dash-component-suites/dash/dcc/dash_core_components-shared.v2_7_0m1668192433.js HTTP/1.1\" 200 -\n",
      "127.0.0.1 - - [05/Dec/2022 14:13:22] \"GET /_dash-component-suites/dash/html/dash_html_components.v2_0_6m1668192434.min.js HTTP/1.1\" 200 -\n",
      "127.0.0.1 - - [05/Dec/2022 14:13:22] \"GET /_dash-component-suites/dash/dash_table/bundle.v5_2_0m1668192433.js HTTP/1.1\" 200 -\n",
      "127.0.0.1 - - [05/Dec/2022 14:13:22] \"GET /_dash-layout HTTP/1.1\" 200 -\n",
      "127.0.0.1 - - [05/Dec/2022 14:13:22] \"GET /_dash-dependencies HTTP/1.1\" 200 -\n",
      "127.0.0.1 - - [05/Dec/2022 14:13:22] \"GET /_favicon.ico?v=2.7.0 HTTP/1.1\" 200 -\n",
      "127.0.0.1 - - [05/Dec/2022 14:13:25] \"POST /_dash-update-component HTTP/1.1\" 200 -\n",
      "127.0.0.1 - - [05/Dec/2022 14:13:26] \"GET /_dash-component-suites/dash/dcc/async-dropdown.js HTTP/1.1\" 200 -\n",
      "127.0.0.1 - - [05/Dec/2022 14:13:26] \"GET /_dash-component-suites/dash/dcc/async-slider.js HTTP/1.1\" 200 -\n",
      "127.0.0.1 - - [05/Dec/2022 14:13:26] \"GET /_dash-component-suites/dash/dcc/async-graph.js HTTP/1.1\" 200 -\n",
      "127.0.0.1 - - [05/Dec/2022 14:13:26] \"GET /_dash-component-suites/dash/dcc/async-plotlyjs.js HTTP/1.1\" 200 -\n"
     ]
    }
   ],
   "source": [
    "\n",
    "# app = dash.Dash(external_stylesheets=[dbc.themes.BOOTSTRAP])\n",
    "\n",
    "# the style arguments for the sidebar. We use position:fixed and a fixed width\n",
    "SIDEBAR_STYLE = {\n",
    "    \"position\": \"fixed\",\n",
    "    \"top\": 0,\n",
    "    \"left\": 0,\n",
    "    \"bottom\": 0,\n",
    "    \"width\": \"16rem\",\n",
    "    \"padding\": \"2rem 1rem\",\n",
    "    \"background-color\": \"#f8f9fa\",\n",
    "}\n",
    "\n",
    "# the styles for the main content position it to the right of the sidebar and\n",
    "# add some padding.\n",
    "CONTENT_STYLE = {\n",
    "    \"margin-left\": \"18rem\",\n",
    "    \"margin-right\": \"2rem\",\n",
    "    \"padding\": \"2rem 1rem\",\n",
    "}\n",
    "def sidebar():\n",
    "    sidebar = html.Div(\n",
    "        [\n",
    "            html.H2(\"Context Menu\", className=\"display-4\"),\n",
    "            html.Hr(),\n",
    "            dbc.Nav(\n",
    "                [\n",
    "                    dbc.NavLink(\"COVID Data\", href=\"/\", active=\"exact\"),\n",
    "                    dbc.NavLink(\"Additional COVID trends\", href=\"/page-1\", active=\"exact\"),\n",
    "                ],\n",
    "                vertical=True,\n",
    "                pills=True,\n",
    "            ),\n",
    "        ],\n",
    "        style=SIDEBAR_STYLE,\n",
    "    )\n",
    "    return sidebar\n",
    "\n",
    "content = html.Div(id=\"page-content\", style=CONTENT_STYLE)\n",
    " \n",
    "app.layout = html.Div([dcc.Location(id=\"url\"), sidebar, content])\n",
    "\n",
    "\n",
    "@app.callback(Output(\"page-content\", \"children\"), [Input(\"url\", \"pathname\")])\n",
    "def render_page_content(pathname):\n",
    "    if pathname == \"/\":\n",
    "        return \n",
    "        \n",
    "    elif pathname == \"/page-1\":\n",
    "        return html.P(\"This is the content of page 1. Yay!\")\n",
    "    # If the user tries to reach a different page, return a 404 message\n",
    "    return html.Div(\n",
    "        [\n",
    "            html.H1(\"404: Not found\", className=\"text-danger\"),\n",
    "            html.Hr(),\n",
    "            html.P(f\"The pathname {pathname} was not recognised...\"),\n",
    "        ],\n",
    "        className=\"p-3 bg-light rounded-3\",\n",
    "    )\n",
    "\n",
    "\n",
    "if __name__ == \"__main__\":\n",
    "    app.run_server(port=9015)"
   ]
  },
  {
   "cell_type": "code",
   "execution_count": null,
   "metadata": {},
   "outputs": [],
   "source": []
  }
 ],
 "metadata": {
  "kernelspec": {
   "display_name": "Python 3.8.10 64-bit",
   "language": "python",
   "name": "python3"
  },
  "language_info": {
   "codemirror_mode": {
    "name": "ipython",
    "version": 3
   },
   "file_extension": ".py",
   "mimetype": "text/x-python",
   "name": "python",
   "nbconvert_exporter": "python",
   "pygments_lexer": "ipython3",
   "version": "3.8.10"
  },
  "orig_nbformat": 4,
  "vscode": {
   "interpreter": {
    "hash": "916dbcbb3f70747c44a77c7bcd40155683ae19c65e1c03b4aa3499c5328201f1"
   }
  }
 },
 "nbformat": 4,
 "nbformat_minor": 2
}
