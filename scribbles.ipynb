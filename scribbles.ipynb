{
 "cells": [
  {
   "cell_type": "code",
   "execution_count": 320,
   "metadata": {},
   "outputs": [],
   "source": [
    "import pickle\n",
    "from utils import *\n",
    "with open('df.pickle', 'rb') as dffile:\n",
    "        df,variables_each_country = pickle.load(dffile)\n"
   ]
  },
  {
   "cell_type": "code",
   "execution_count": 321,
   "metadata": {},
   "outputs": [
    {
     "name": "stdout",
     "output_type": "stream",
     "text": [
      "['2020-02-20' '2020-04-09' '2020-06-11' '2020-07-16' '2020-09-17'\n",
      " '2020-10-22' '2020-11-26' '2020-12-10']\n"
     ]
    }
   ],
   "source": [
    "import pandas as pd\n",
    "fifa_ranking = pd.read_csv('fifa_ranking-2022-10-06.csv')\n",
    "fifa_ranking = fifa_ranking.drop(columns = ['total_points', 'previous_points', 'rank_change', 'confederation', 'country_full']).reset_index()\n",
    "\n",
    "# get the 2020 ranking\n",
    "fifa_ranking = fifa_ranking[fifa_ranking['rank_date'].str.contains('2020') == True]\n",
    "print(fifa_ranking['rank_date'].unique())\n",
    "fifa_ranking = fifa_ranking[fifa_ranking['rank_date'] == '2020-04-09']\n",
    "fifa_ranking = fifa_ranking.sort_values(by='rank').reset_index()\n",
    "fifa_ranking = fifa_ranking.drop(columns = ['level_0', 'index'])"
   ]
  },
  {
   "cell_type": "code",
   "execution_count": 322,
   "metadata": {},
   "outputs": [
    {
     "data": {
      "text/html": [
       "<div>\n",
       "<style scoped>\n",
       "    .dataframe tbody tr th:only-of-type {\n",
       "        vertical-align: middle;\n",
       "    }\n",
       "\n",
       "    .dataframe tbody tr th {\n",
       "        vertical-align: top;\n",
       "    }\n",
       "\n",
       "    .dataframe thead th {\n",
       "        text-align: right;\n",
       "    }\n",
       "</style>\n",
       "<table border=\"1\" class=\"dataframe\">\n",
       "  <thead>\n",
       "    <tr style=\"text-align: right;\">\n",
       "      <th></th>\n",
       "      <th>iso_code</th>\n",
       "      <th>continent</th>\n",
       "      <th>location</th>\n",
       "      <th>date</th>\n",
       "      <th>tests_units</th>\n",
       "      <th>total_cases</th>\n",
       "      <th>new_cases</th>\n",
       "      <th>new_cases_smoothed</th>\n",
       "      <th>total_deaths</th>\n",
       "      <th>new_deaths</th>\n",
       "      <th>...</th>\n",
       "      <th>excess_mortality</th>\n",
       "      <th>excess_mortality_cumulative_per_million</th>\n",
       "      <th>icu_patients</th>\n",
       "      <th>icu_patients_per_million</th>\n",
       "      <th>hosp_patients</th>\n",
       "      <th>hosp_patients_per_million</th>\n",
       "      <th>weekly_hosp_admissions</th>\n",
       "      <th>weekly_hosp_admissions_per_million</th>\n",
       "      <th>weekly_icu_admissions</th>\n",
       "      <th>weekly_icu_admissions_per_million</th>\n",
       "    </tr>\n",
       "  </thead>\n",
       "  <tbody>\n",
       "    <tr>\n",
       "      <th>45</th>\n",
       "      <td>AFG</td>\n",
       "      <td>Asia</td>\n",
       "      <td>Afghanistan</td>\n",
       "      <td>2020-04-09</td>\n",
       "      <td>NaN</td>\n",
       "      <td>444.0</td>\n",
       "      <td>21.0</td>\n",
       "      <td>29.857</td>\n",
       "      <td>15.0</td>\n",
       "      <td>1.0</td>\n",
       "      <td>...</td>\n",
       "      <td>NaN</td>\n",
       "      <td>NaN</td>\n",
       "      <td>NaN</td>\n",
       "      <td>NaN</td>\n",
       "      <td>NaN</td>\n",
       "      <td>NaN</td>\n",
       "      <td>NaN</td>\n",
       "      <td>NaN</td>\n",
       "      <td>NaN</td>\n",
       "      <td>NaN</td>\n",
       "    </tr>\n",
       "    <tr>\n",
       "      <th>2075</th>\n",
       "      <td>ALB</td>\n",
       "      <td>Europe</td>\n",
       "      <td>Albania</td>\n",
       "      <td>2020-04-09</td>\n",
       "      <td>tests performed</td>\n",
       "      <td>409.0</td>\n",
       "      <td>9.0</td>\n",
       "      <td>18.857</td>\n",
       "      <td>23.0</td>\n",
       "      <td>1.0</td>\n",
       "      <td>...</td>\n",
       "      <td>1.31</td>\n",
       "      <td>-58.051210</td>\n",
       "      <td>NaN</td>\n",
       "      <td>NaN</td>\n",
       "      <td>NaN</td>\n",
       "      <td>NaN</td>\n",
       "      <td>NaN</td>\n",
       "      <td>NaN</td>\n",
       "      <td>NaN</td>\n",
       "      <td>NaN</td>\n",
       "    </tr>\n",
       "    <tr>\n",
       "      <th>3084</th>\n",
       "      <td>DZA</td>\n",
       "      <td>Africa</td>\n",
       "      <td>Algeria</td>\n",
       "      <td>2020-04-09</td>\n",
       "      <td>NaN</td>\n",
       "      <td>1666.0</td>\n",
       "      <td>94.0</td>\n",
       "      <td>97.143</td>\n",
       "      <td>235.0</td>\n",
       "      <td>30.0</td>\n",
       "      <td>...</td>\n",
       "      <td>0.30</td>\n",
       "      <td>-10.883405</td>\n",
       "      <td>0.0</td>\n",
       "      <td>0.0</td>\n",
       "      <td>NaN</td>\n",
       "      <td>NaN</td>\n",
       "      <td>NaN</td>\n",
       "      <td>NaN</td>\n",
       "      <td>NaN</td>\n",
       "      <td>NaN</td>\n",
       "    </tr>\n",
       "    <tr>\n",
       "      <th>4087</th>\n",
       "      <td>AND</td>\n",
       "      <td>Europe</td>\n",
       "      <td>Andorra</td>\n",
       "      <td>2020-04-09</td>\n",
       "      <td>NaN</td>\n",
       "      <td>583.0</td>\n",
       "      <td>19.0</td>\n",
       "      <td>22.143</td>\n",
       "      <td>25.0</td>\n",
       "      <td>2.0</td>\n",
       "      <td>...</td>\n",
       "      <td>23.46</td>\n",
       "      <td>200.393272</td>\n",
       "      <td>NaN</td>\n",
       "      <td>NaN</td>\n",
       "      <td>NaN</td>\n",
       "      <td>NaN</td>\n",
       "      <td>NaN</td>\n",
       "      <td>NaN</td>\n",
       "      <td>NaN</td>\n",
       "      <td>NaN</td>\n",
       "    </tr>\n",
       "    <tr>\n",
       "      <th>5072</th>\n",
       "      <td>AGO</td>\n",
       "      <td>Africa</td>\n",
       "      <td>Angola</td>\n",
       "      <td>2020-04-09</td>\n",
       "      <td>NaN</td>\n",
       "      <td>19.0</td>\n",
       "      <td>0.0</td>\n",
       "      <td>1.571</td>\n",
       "      <td>2.0</td>\n",
       "      <td>0.0</td>\n",
       "      <td>...</td>\n",
       "      <td>NaN</td>\n",
       "      <td>NaN</td>\n",
       "      <td>NaN</td>\n",
       "      <td>NaN</td>\n",
       "      <td>NaN</td>\n",
       "      <td>NaN</td>\n",
       "      <td>NaN</td>\n",
       "      <td>NaN</td>\n",
       "      <td>NaN</td>\n",
       "      <td>NaN</td>\n",
       "    </tr>\n",
       "    <tr>\n",
       "      <th>...</th>\n",
       "      <td>...</td>\n",
       "      <td>...</td>\n",
       "      <td>...</td>\n",
       "      <td>...</td>\n",
       "      <td>...</td>\n",
       "      <td>...</td>\n",
       "      <td>...</td>\n",
       "      <td>...</td>\n",
       "      <td>...</td>\n",
       "      <td>...</td>\n",
       "      <td>...</td>\n",
       "      <td>...</td>\n",
       "      <td>...</td>\n",
       "      <td>...</td>\n",
       "      <td>...</td>\n",
       "      <td>...</td>\n",
       "      <td>...</td>\n",
       "      <td>...</td>\n",
       "      <td>...</td>\n",
       "      <td>...</td>\n",
       "      <td>...</td>\n",
       "    </tr>\n",
       "    <tr>\n",
       "      <th>229978</th>\n",
       "      <td>VAT</td>\n",
       "      <td>Europe</td>\n",
       "      <td>Vatican</td>\n",
       "      <td>2020-04-09</td>\n",
       "      <td>NaN</td>\n",
       "      <td>8.0</td>\n",
       "      <td>0.0</td>\n",
       "      <td>0.143</td>\n",
       "      <td>NaN</td>\n",
       "      <td>NaN</td>\n",
       "      <td>...</td>\n",
       "      <td>NaN</td>\n",
       "      <td>NaN</td>\n",
       "      <td>NaN</td>\n",
       "      <td>NaN</td>\n",
       "      <td>NaN</td>\n",
       "      <td>NaN</td>\n",
       "      <td>NaN</td>\n",
       "      <td>NaN</td>\n",
       "      <td>NaN</td>\n",
       "      <td>NaN</td>\n",
       "    </tr>\n",
       "    <tr>\n",
       "      <th>230969</th>\n",
       "      <td>VEN</td>\n",
       "      <td>South America</td>\n",
       "      <td>Venezuela</td>\n",
       "      <td>2020-04-09</td>\n",
       "      <td>NaN</td>\n",
       "      <td>171.0</td>\n",
       "      <td>4.0</td>\n",
       "      <td>3.571</td>\n",
       "      <td>9.0</td>\n",
       "      <td>0.0</td>\n",
       "      <td>...</td>\n",
       "      <td>NaN</td>\n",
       "      <td>NaN</td>\n",
       "      <td>NaN</td>\n",
       "      <td>NaN</td>\n",
       "      <td>NaN</td>\n",
       "      <td>NaN</td>\n",
       "      <td>NaN</td>\n",
       "      <td>NaN</td>\n",
       "      <td>NaN</td>\n",
       "      <td>NaN</td>\n",
       "    </tr>\n",
       "    <tr>\n",
       "      <th>232011</th>\n",
       "      <td>VNM</td>\n",
       "      <td>Asia</td>\n",
       "      <td>Vietnam</td>\n",
       "      <td>2020-04-09</td>\n",
       "      <td>NaN</td>\n",
       "      <td>255.0</td>\n",
       "      <td>4.0</td>\n",
       "      <td>3.143</td>\n",
       "      <td>0.0</td>\n",
       "      <td>0.0</td>\n",
       "      <td>...</td>\n",
       "      <td>NaN</td>\n",
       "      <td>NaN</td>\n",
       "      <td>NaN</td>\n",
       "      <td>NaN</td>\n",
       "      <td>NaN</td>\n",
       "      <td>NaN</td>\n",
       "      <td>NaN</td>\n",
       "      <td>NaN</td>\n",
       "      <td>NaN</td>\n",
       "      <td>NaN</td>\n",
       "    </tr>\n",
       "    <tr>\n",
       "      <th>236753</th>\n",
       "      <td>ZMB</td>\n",
       "      <td>Africa</td>\n",
       "      <td>Zambia</td>\n",
       "      <td>2020-04-09</td>\n",
       "      <td>tests performed</td>\n",
       "      <td>39.0</td>\n",
       "      <td>0.0</td>\n",
       "      <td>0.000</td>\n",
       "      <td>1.0</td>\n",
       "      <td>0.0</td>\n",
       "      <td>...</td>\n",
       "      <td>NaN</td>\n",
       "      <td>NaN</td>\n",
       "      <td>NaN</td>\n",
       "      <td>NaN</td>\n",
       "      <td>NaN</td>\n",
       "      <td>NaN</td>\n",
       "      <td>NaN</td>\n",
       "      <td>NaN</td>\n",
       "      <td>NaN</td>\n",
       "      <td>NaN</td>\n",
       "    </tr>\n",
       "    <tr>\n",
       "      <th>237738</th>\n",
       "      <td>ZWE</td>\n",
       "      <td>Africa</td>\n",
       "      <td>Zimbabwe</td>\n",
       "      <td>2020-04-09</td>\n",
       "      <td>NaN</td>\n",
       "      <td>11.0</td>\n",
       "      <td>0.0</td>\n",
       "      <td>0.286</td>\n",
       "      <td>3.0</td>\n",
       "      <td>0.0</td>\n",
       "      <td>...</td>\n",
       "      <td>NaN</td>\n",
       "      <td>NaN</td>\n",
       "      <td>NaN</td>\n",
       "      <td>NaN</td>\n",
       "      <td>NaN</td>\n",
       "      <td>NaN</td>\n",
       "      <td>NaN</td>\n",
       "      <td>NaN</td>\n",
       "      <td>NaN</td>\n",
       "      <td>NaN</td>\n",
       "    </tr>\n",
       "  </tbody>\n",
       "</table>\n",
       "<p>204 rows × 67 columns</p>\n",
       "</div>"
      ],
      "text/plain": [
       "       iso_code      continent     location        date      tests_units  \\\n",
       "45          AFG           Asia  Afghanistan  2020-04-09              NaN   \n",
       "2075        ALB         Europe      Albania  2020-04-09  tests performed   \n",
       "3084        DZA         Africa      Algeria  2020-04-09              NaN   \n",
       "4087        AND         Europe      Andorra  2020-04-09              NaN   \n",
       "5072        AGO         Africa       Angola  2020-04-09              NaN   \n",
       "...         ...            ...          ...         ...              ...   \n",
       "229978      VAT         Europe      Vatican  2020-04-09              NaN   \n",
       "230969      VEN  South America    Venezuela  2020-04-09              NaN   \n",
       "232011      VNM           Asia      Vietnam  2020-04-09              NaN   \n",
       "236753      ZMB         Africa       Zambia  2020-04-09  tests performed   \n",
       "237738      ZWE         Africa     Zimbabwe  2020-04-09              NaN   \n",
       "\n",
       "        total_cases  new_cases  new_cases_smoothed  total_deaths  new_deaths  \\\n",
       "45            444.0       21.0              29.857          15.0         1.0   \n",
       "2075          409.0        9.0              18.857          23.0         1.0   \n",
       "3084         1666.0       94.0              97.143         235.0        30.0   \n",
       "4087          583.0       19.0              22.143          25.0         2.0   \n",
       "5072           19.0        0.0               1.571           2.0         0.0   \n",
       "...             ...        ...                 ...           ...         ...   \n",
       "229978          8.0        0.0               0.143           NaN         NaN   \n",
       "230969        171.0        4.0               3.571           9.0         0.0   \n",
       "232011        255.0        4.0               3.143           0.0         0.0   \n",
       "236753         39.0        0.0               0.000           1.0         0.0   \n",
       "237738         11.0        0.0               0.286           3.0         0.0   \n",
       "\n",
       "        ...  excess_mortality  excess_mortality_cumulative_per_million  \\\n",
       "45      ...               NaN                                      NaN   \n",
       "2075    ...              1.31                               -58.051210   \n",
       "3084    ...              0.30                               -10.883405   \n",
       "4087    ...             23.46                               200.393272   \n",
       "5072    ...               NaN                                      NaN   \n",
       "...     ...               ...                                      ...   \n",
       "229978  ...               NaN                                      NaN   \n",
       "230969  ...               NaN                                      NaN   \n",
       "232011  ...               NaN                                      NaN   \n",
       "236753  ...               NaN                                      NaN   \n",
       "237738  ...               NaN                                      NaN   \n",
       "\n",
       "        icu_patients  icu_patients_per_million  hosp_patients  \\\n",
       "45               NaN                       NaN            NaN   \n",
       "2075             NaN                       NaN            NaN   \n",
       "3084             0.0                       0.0            NaN   \n",
       "4087             NaN                       NaN            NaN   \n",
       "5072             NaN                       NaN            NaN   \n",
       "...              ...                       ...            ...   \n",
       "229978           NaN                       NaN            NaN   \n",
       "230969           NaN                       NaN            NaN   \n",
       "232011           NaN                       NaN            NaN   \n",
       "236753           NaN                       NaN            NaN   \n",
       "237738           NaN                       NaN            NaN   \n",
       "\n",
       "        hosp_patients_per_million  weekly_hosp_admissions  \\\n",
       "45                            NaN                     NaN   \n",
       "2075                          NaN                     NaN   \n",
       "3084                          NaN                     NaN   \n",
       "4087                          NaN                     NaN   \n",
       "5072                          NaN                     NaN   \n",
       "...                           ...                     ...   \n",
       "229978                        NaN                     NaN   \n",
       "230969                        NaN                     NaN   \n",
       "232011                        NaN                     NaN   \n",
       "236753                        NaN                     NaN   \n",
       "237738                        NaN                     NaN   \n",
       "\n",
       "        weekly_hosp_admissions_per_million  weekly_icu_admissions  \\\n",
       "45                                     NaN                    NaN   \n",
       "2075                                   NaN                    NaN   \n",
       "3084                                   NaN                    NaN   \n",
       "4087                                   NaN                    NaN   \n",
       "5072                                   NaN                    NaN   \n",
       "...                                    ...                    ...   \n",
       "229978                                 NaN                    NaN   \n",
       "230969                                 NaN                    NaN   \n",
       "232011                                 NaN                    NaN   \n",
       "236753                                 NaN                    NaN   \n",
       "237738                                 NaN                    NaN   \n",
       "\n",
       "        weekly_icu_admissions_per_million  \n",
       "45                                    NaN  \n",
       "2075                                  NaN  \n",
       "3084                                  NaN  \n",
       "4087                                  NaN  \n",
       "5072                                  NaN  \n",
       "...                                   ...  \n",
       "229978                                NaN  \n",
       "230969                                NaN  \n",
       "232011                                NaN  \n",
       "236753                                NaN  \n",
       "237738                                NaN  \n",
       "\n",
       "[204 rows x 67 columns]"
      ]
     },
     "execution_count": 322,
     "metadata": {},
     "output_type": "execute_result"
    }
   ],
   "source": [
    "df = df[df['iso_code'].str.contains('OWID')==False]\n",
    "df = df[df['date'] == '2020-04-09']\n",
    "df"
   ]
  },
  {
   "cell_type": "code",
   "execution_count": 323,
   "metadata": {},
   "outputs": [],
   "source": [
    "df.rename(columns ={'iso_code':'country_abrv'}, inplace=True)\n",
    "df = df[['country_abrv', 'total_cases']]"
   ]
  },
  {
   "cell_type": "code",
   "execution_count": 324,
   "metadata": {},
   "outputs": [
    {
     "data": {
      "text/html": [
       "<div>\n",
       "<style scoped>\n",
       "    .dataframe tbody tr th:only-of-type {\n",
       "        vertical-align: middle;\n",
       "    }\n",
       "\n",
       "    .dataframe tbody tr th {\n",
       "        vertical-align: top;\n",
       "    }\n",
       "\n",
       "    .dataframe thead th {\n",
       "        text-align: right;\n",
       "    }\n",
       "</style>\n",
       "<table border=\"1\" class=\"dataframe\">\n",
       "  <thead>\n",
       "    <tr style=\"text-align: right;\">\n",
       "      <th></th>\n",
       "      <th>country_abrv</th>\n",
       "      <th>total_cases</th>\n",
       "    </tr>\n",
       "  </thead>\n",
       "  <tbody>\n",
       "    <tr>\n",
       "      <th>45</th>\n",
       "      <td>AFG</td>\n",
       "      <td>444.0</td>\n",
       "    </tr>\n",
       "    <tr>\n",
       "      <th>2075</th>\n",
       "      <td>ALB</td>\n",
       "      <td>409.0</td>\n",
       "    </tr>\n",
       "    <tr>\n",
       "      <th>3084</th>\n",
       "      <td>DZA</td>\n",
       "      <td>1666.0</td>\n",
       "    </tr>\n",
       "    <tr>\n",
       "      <th>4087</th>\n",
       "      <td>AND</td>\n",
       "      <td>583.0</td>\n",
       "    </tr>\n",
       "    <tr>\n",
       "      <th>5072</th>\n",
       "      <td>AGO</td>\n",
       "      <td>19.0</td>\n",
       "    </tr>\n",
       "    <tr>\n",
       "      <th>...</th>\n",
       "      <td>...</td>\n",
       "      <td>...</td>\n",
       "    </tr>\n",
       "    <tr>\n",
       "      <th>229978</th>\n",
       "      <td>VAT</td>\n",
       "      <td>8.0</td>\n",
       "    </tr>\n",
       "    <tr>\n",
       "      <th>230969</th>\n",
       "      <td>VEN</td>\n",
       "      <td>171.0</td>\n",
       "    </tr>\n",
       "    <tr>\n",
       "      <th>232011</th>\n",
       "      <td>VNM</td>\n",
       "      <td>255.0</td>\n",
       "    </tr>\n",
       "    <tr>\n",
       "      <th>236753</th>\n",
       "      <td>ZMB</td>\n",
       "      <td>39.0</td>\n",
       "    </tr>\n",
       "    <tr>\n",
       "      <th>237738</th>\n",
       "      <td>ZWE</td>\n",
       "      <td>11.0</td>\n",
       "    </tr>\n",
       "  </tbody>\n",
       "</table>\n",
       "<p>204 rows × 2 columns</p>\n",
       "</div>"
      ],
      "text/plain": [
       "       country_abrv  total_cases\n",
       "45              AFG        444.0\n",
       "2075            ALB        409.0\n",
       "3084            DZA       1666.0\n",
       "4087            AND        583.0\n",
       "5072            AGO         19.0\n",
       "...             ...          ...\n",
       "229978          VAT          8.0\n",
       "230969          VEN        171.0\n",
       "232011          VNM        255.0\n",
       "236753          ZMB         39.0\n",
       "237738          ZWE         11.0\n",
       "\n",
       "[204 rows x 2 columns]"
      ]
     },
     "execution_count": 324,
     "metadata": {},
     "output_type": "execute_result"
    }
   ],
   "source": [
    "df"
   ]
  },
  {
   "cell_type": "code",
   "execution_count": 325,
   "metadata": {},
   "outputs": [],
   "source": [
    "final_rank = df.merge(fifa_ranking, how='left', on='country_abrv')\n"
   ]
  },
  {
   "cell_type": "code",
   "execution_count": 326,
   "metadata": {},
   "outputs": [],
   "source": [
    "final_df = final_rank.dropna()"
   ]
  },
  {
   "cell_type": "markdown",
   "metadata": {},
   "source": [
    "MAKE A COVID RANKING TO SHOW THE AMOUNT OF COVID IN A COUNTRY"
   ]
  },
  {
   "cell_type": "code",
   "execution_count": 327,
   "metadata": {},
   "outputs": [],
   "source": [
    "final_df = final_df.sort_values(by='rank')\n",
    "final_df.drop(final_df.tail(80).index,inplace=True) # drop last n rows"
   ]
  },
  {
   "cell_type": "code",
   "execution_count": 328,
   "metadata": {},
   "outputs": [
    {
     "data": {
      "application/vnd.plotly.v1+json": {
       "config": {
        "plotlyServerURL": "https://plot.ly"
       },
       "data": [
        {
         "mode": "markers",
         "name": "Total COVID cases on 09-04-2020",
         "type": "scatter",
         "x": [
          "BEL",
          "FRA",
          "BRA",
          "ESP",
          "ARG",
          "COL",
          "MEX",
          "ITA",
          "SWE",
          "POL",
          "SEN",
          "PER",
          "USA",
          "UKR",
          "VEN",
          "AUT",
          "TUN",
          "JPN",
          "SRB",
          "TUR",
          "NGA",
          "SVK",
          "IRN",
          "IRL",
          "ROU",
          "RUS",
          "ISL",
          "KOR",
          "AUS",
          "MAR",
          "NOR",
          "CZE",
          "GHA",
          "JAM",
          "BIH",
          "EGY",
          "HUN",
          "CMR",
          "QAT",
          "COD",
          "MLI",
          "FIN",
          "BFA",
          "CIV",
          "ECU",
          "MNE",
          "SVN",
          "ALB",
          "MKD",
          "SLV",
          "IRQ"
         ],
         "xaxis": "x",
         "y": [
          24983,
          54964,
          18092,
          153222,
          1795,
          2223,
          3441,
          143626,
          9599,
          5575,
          250,
          5256,
          482510,
          1892,
          171,
          12915,
          643,
          5614,
          2867,
          42282,
          288,
          701,
          66220,
          6574,
          5202,
          10131,
          1648,
          10423,
          6108,
          1374,
          6211,
          5569,
          378,
          63,
          858,
          1699,
          980,
          730,
          2376,
          180,
          74,
          3056,
          443,
          444,
          4965,
          252,
          1124,
          409,
          663,
          103,
          1232
         ],
         "yaxis": "y"
        },
        {
         "mode": "markers",
         "name": "Fifa World Rank on 09-04-2020",
         "type": "scatter",
         "x": [
          "BEL",
          "FRA",
          "BRA",
          "ESP",
          "ARG",
          "COL",
          "MEX",
          "ITA",
          "SWE",
          "POL",
          "SEN",
          "PER",
          "USA",
          "UKR",
          "VEN",
          "AUT",
          "TUN",
          "JPN",
          "SRB",
          "TUR",
          "NGA",
          "SVK",
          "IRN",
          "IRL",
          "ROU",
          "RUS",
          "ISL",
          "KOR",
          "AUS",
          "MAR",
          "NOR",
          "CZE",
          "GHA",
          "JAM",
          "BIH",
          "EGY",
          "HUN",
          "CMR",
          "QAT",
          "COD",
          "MLI",
          "FIN",
          "BFA",
          "CIV",
          "ECU",
          "MNE",
          "SVN",
          "ALB",
          "MKD",
          "SLV",
          "IRQ"
         ],
         "xaxis": "x",
         "y": [
          1,
          2,
          3,
          8,
          9,
          10,
          11,
          13,
          17,
          19,
          20,
          21,
          22,
          24,
          25,
          26,
          27,
          28,
          29,
          29,
          31,
          32,
          33,
          34,
          37,
          38,
          39,
          40,
          42,
          43,
          44,
          45,
          46,
          48,
          49,
          51,
          52,
          53,
          55,
          56,
          56,
          58,
          59,
          61,
          63,
          64,
          64,
          66,
          68,
          69,
          70
         ],
         "yaxis": "y2"
        }
       ],
       "layout": {
        "template": {
         "data": {
          "bar": [
           {
            "error_x": {
             "color": "#2a3f5f"
            },
            "error_y": {
             "color": "#2a3f5f"
            },
            "marker": {
             "line": {
              "color": "#E5ECF6",
              "width": 0.5
             },
             "pattern": {
              "fillmode": "overlay",
              "size": 10,
              "solidity": 0.2
             }
            },
            "type": "bar"
           }
          ],
          "barpolar": [
           {
            "marker": {
             "line": {
              "color": "#E5ECF6",
              "width": 0.5
             },
             "pattern": {
              "fillmode": "overlay",
              "size": 10,
              "solidity": 0.2
             }
            },
            "type": "barpolar"
           }
          ],
          "carpet": [
           {
            "aaxis": {
             "endlinecolor": "#2a3f5f",
             "gridcolor": "white",
             "linecolor": "white",
             "minorgridcolor": "white",
             "startlinecolor": "#2a3f5f"
            },
            "baxis": {
             "endlinecolor": "#2a3f5f",
             "gridcolor": "white",
             "linecolor": "white",
             "minorgridcolor": "white",
             "startlinecolor": "#2a3f5f"
            },
            "type": "carpet"
           }
          ],
          "choropleth": [
           {
            "colorbar": {
             "outlinewidth": 0,
             "ticks": ""
            },
            "type": "choropleth"
           }
          ],
          "contour": [
           {
            "colorbar": {
             "outlinewidth": 0,
             "ticks": ""
            },
            "colorscale": [
             [
              0,
              "#0d0887"
             ],
             [
              0.1111111111111111,
              "#46039f"
             ],
             [
              0.2222222222222222,
              "#7201a8"
             ],
             [
              0.3333333333333333,
              "#9c179e"
             ],
             [
              0.4444444444444444,
              "#bd3786"
             ],
             [
              0.5555555555555556,
              "#d8576b"
             ],
             [
              0.6666666666666666,
              "#ed7953"
             ],
             [
              0.7777777777777778,
              "#fb9f3a"
             ],
             [
              0.8888888888888888,
              "#fdca26"
             ],
             [
              1,
              "#f0f921"
             ]
            ],
            "type": "contour"
           }
          ],
          "contourcarpet": [
           {
            "colorbar": {
             "outlinewidth": 0,
             "ticks": ""
            },
            "type": "contourcarpet"
           }
          ],
          "heatmap": [
           {
            "colorbar": {
             "outlinewidth": 0,
             "ticks": ""
            },
            "colorscale": [
             [
              0,
              "#0d0887"
             ],
             [
              0.1111111111111111,
              "#46039f"
             ],
             [
              0.2222222222222222,
              "#7201a8"
             ],
             [
              0.3333333333333333,
              "#9c179e"
             ],
             [
              0.4444444444444444,
              "#bd3786"
             ],
             [
              0.5555555555555556,
              "#d8576b"
             ],
             [
              0.6666666666666666,
              "#ed7953"
             ],
             [
              0.7777777777777778,
              "#fb9f3a"
             ],
             [
              0.8888888888888888,
              "#fdca26"
             ],
             [
              1,
              "#f0f921"
             ]
            ],
            "type": "heatmap"
           }
          ],
          "heatmapgl": [
           {
            "colorbar": {
             "outlinewidth": 0,
             "ticks": ""
            },
            "colorscale": [
             [
              0,
              "#0d0887"
             ],
             [
              0.1111111111111111,
              "#46039f"
             ],
             [
              0.2222222222222222,
              "#7201a8"
             ],
             [
              0.3333333333333333,
              "#9c179e"
             ],
             [
              0.4444444444444444,
              "#bd3786"
             ],
             [
              0.5555555555555556,
              "#d8576b"
             ],
             [
              0.6666666666666666,
              "#ed7953"
             ],
             [
              0.7777777777777778,
              "#fb9f3a"
             ],
             [
              0.8888888888888888,
              "#fdca26"
             ],
             [
              1,
              "#f0f921"
             ]
            ],
            "type": "heatmapgl"
           }
          ],
          "histogram": [
           {
            "marker": {
             "pattern": {
              "fillmode": "overlay",
              "size": 10,
              "solidity": 0.2
             }
            },
            "type": "histogram"
           }
          ],
          "histogram2d": [
           {
            "colorbar": {
             "outlinewidth": 0,
             "ticks": ""
            },
            "colorscale": [
             [
              0,
              "#0d0887"
             ],
             [
              0.1111111111111111,
              "#46039f"
             ],
             [
              0.2222222222222222,
              "#7201a8"
             ],
             [
              0.3333333333333333,
              "#9c179e"
             ],
             [
              0.4444444444444444,
              "#bd3786"
             ],
             [
              0.5555555555555556,
              "#d8576b"
             ],
             [
              0.6666666666666666,
              "#ed7953"
             ],
             [
              0.7777777777777778,
              "#fb9f3a"
             ],
             [
              0.8888888888888888,
              "#fdca26"
             ],
             [
              1,
              "#f0f921"
             ]
            ],
            "type": "histogram2d"
           }
          ],
          "histogram2dcontour": [
           {
            "colorbar": {
             "outlinewidth": 0,
             "ticks": ""
            },
            "colorscale": [
             [
              0,
              "#0d0887"
             ],
             [
              0.1111111111111111,
              "#46039f"
             ],
             [
              0.2222222222222222,
              "#7201a8"
             ],
             [
              0.3333333333333333,
              "#9c179e"
             ],
             [
              0.4444444444444444,
              "#bd3786"
             ],
             [
              0.5555555555555556,
              "#d8576b"
             ],
             [
              0.6666666666666666,
              "#ed7953"
             ],
             [
              0.7777777777777778,
              "#fb9f3a"
             ],
             [
              0.8888888888888888,
              "#fdca26"
             ],
             [
              1,
              "#f0f921"
             ]
            ],
            "type": "histogram2dcontour"
           }
          ],
          "mesh3d": [
           {
            "colorbar": {
             "outlinewidth": 0,
             "ticks": ""
            },
            "type": "mesh3d"
           }
          ],
          "parcoords": [
           {
            "line": {
             "colorbar": {
              "outlinewidth": 0,
              "ticks": ""
             }
            },
            "type": "parcoords"
           }
          ],
          "pie": [
           {
            "automargin": true,
            "type": "pie"
           }
          ],
          "scatter": [
           {
            "fillpattern": {
             "fillmode": "overlay",
             "size": 10,
             "solidity": 0.2
            },
            "type": "scatter"
           }
          ],
          "scatter3d": [
           {
            "line": {
             "colorbar": {
              "outlinewidth": 0,
              "ticks": ""
             }
            },
            "marker": {
             "colorbar": {
              "outlinewidth": 0,
              "ticks": ""
             }
            },
            "type": "scatter3d"
           }
          ],
          "scattercarpet": [
           {
            "marker": {
             "colorbar": {
              "outlinewidth": 0,
              "ticks": ""
             }
            },
            "type": "scattercarpet"
           }
          ],
          "scattergeo": [
           {
            "marker": {
             "colorbar": {
              "outlinewidth": 0,
              "ticks": ""
             }
            },
            "type": "scattergeo"
           }
          ],
          "scattergl": [
           {
            "marker": {
             "colorbar": {
              "outlinewidth": 0,
              "ticks": ""
             }
            },
            "type": "scattergl"
           }
          ],
          "scattermapbox": [
           {
            "marker": {
             "colorbar": {
              "outlinewidth": 0,
              "ticks": ""
             }
            },
            "type": "scattermapbox"
           }
          ],
          "scatterpolar": [
           {
            "marker": {
             "colorbar": {
              "outlinewidth": 0,
              "ticks": ""
             }
            },
            "type": "scatterpolar"
           }
          ],
          "scatterpolargl": [
           {
            "marker": {
             "colorbar": {
              "outlinewidth": 0,
              "ticks": ""
             }
            },
            "type": "scatterpolargl"
           }
          ],
          "scatterternary": [
           {
            "marker": {
             "colorbar": {
              "outlinewidth": 0,
              "ticks": ""
             }
            },
            "type": "scatterternary"
           }
          ],
          "surface": [
           {
            "colorbar": {
             "outlinewidth": 0,
             "ticks": ""
            },
            "colorscale": [
             [
              0,
              "#0d0887"
             ],
             [
              0.1111111111111111,
              "#46039f"
             ],
             [
              0.2222222222222222,
              "#7201a8"
             ],
             [
              0.3333333333333333,
              "#9c179e"
             ],
             [
              0.4444444444444444,
              "#bd3786"
             ],
             [
              0.5555555555555556,
              "#d8576b"
             ],
             [
              0.6666666666666666,
              "#ed7953"
             ],
             [
              0.7777777777777778,
              "#fb9f3a"
             ],
             [
              0.8888888888888888,
              "#fdca26"
             ],
             [
              1,
              "#f0f921"
             ]
            ],
            "type": "surface"
           }
          ],
          "table": [
           {
            "cells": {
             "fill": {
              "color": "#EBF0F8"
             },
             "line": {
              "color": "white"
             }
            },
            "header": {
             "fill": {
              "color": "#C8D4E3"
             },
             "line": {
              "color": "white"
             }
            },
            "type": "table"
           }
          ]
         },
         "layout": {
          "annotationdefaults": {
           "arrowcolor": "#2a3f5f",
           "arrowhead": 0,
           "arrowwidth": 1
          },
          "autotypenumbers": "strict",
          "coloraxis": {
           "colorbar": {
            "outlinewidth": 0,
            "ticks": ""
           }
          },
          "colorscale": {
           "diverging": [
            [
             0,
             "#8e0152"
            ],
            [
             0.1,
             "#c51b7d"
            ],
            [
             0.2,
             "#de77ae"
            ],
            [
             0.3,
             "#f1b6da"
            ],
            [
             0.4,
             "#fde0ef"
            ],
            [
             0.5,
             "#f7f7f7"
            ],
            [
             0.6,
             "#e6f5d0"
            ],
            [
             0.7,
             "#b8e186"
            ],
            [
             0.8,
             "#7fbc41"
            ],
            [
             0.9,
             "#4d9221"
            ],
            [
             1,
             "#276419"
            ]
           ],
           "sequential": [
            [
             0,
             "#0d0887"
            ],
            [
             0.1111111111111111,
             "#46039f"
            ],
            [
             0.2222222222222222,
             "#7201a8"
            ],
            [
             0.3333333333333333,
             "#9c179e"
            ],
            [
             0.4444444444444444,
             "#bd3786"
            ],
            [
             0.5555555555555556,
             "#d8576b"
            ],
            [
             0.6666666666666666,
             "#ed7953"
            ],
            [
             0.7777777777777778,
             "#fb9f3a"
            ],
            [
             0.8888888888888888,
             "#fdca26"
            ],
            [
             1,
             "#f0f921"
            ]
           ],
           "sequentialminus": [
            [
             0,
             "#0d0887"
            ],
            [
             0.1111111111111111,
             "#46039f"
            ],
            [
             0.2222222222222222,
             "#7201a8"
            ],
            [
             0.3333333333333333,
             "#9c179e"
            ],
            [
             0.4444444444444444,
             "#bd3786"
            ],
            [
             0.5555555555555556,
             "#d8576b"
            ],
            [
             0.6666666666666666,
             "#ed7953"
            ],
            [
             0.7777777777777778,
             "#fb9f3a"
            ],
            [
             0.8888888888888888,
             "#fdca26"
            ],
            [
             1,
             "#f0f921"
            ]
           ]
          },
          "colorway": [
           "#636efa",
           "#EF553B",
           "#00cc96",
           "#ab63fa",
           "#FFA15A",
           "#19d3f3",
           "#FF6692",
           "#B6E880",
           "#FF97FF",
           "#FECB52"
          ],
          "font": {
           "color": "#2a3f5f"
          },
          "geo": {
           "bgcolor": "white",
           "lakecolor": "white",
           "landcolor": "#E5ECF6",
           "showlakes": true,
           "showland": true,
           "subunitcolor": "white"
          },
          "hoverlabel": {
           "align": "left"
          },
          "hovermode": "closest",
          "mapbox": {
           "style": "light"
          },
          "paper_bgcolor": "white",
          "plot_bgcolor": "#E5ECF6",
          "polar": {
           "angularaxis": {
            "gridcolor": "white",
            "linecolor": "white",
            "ticks": ""
           },
           "bgcolor": "#E5ECF6",
           "radialaxis": {
            "gridcolor": "white",
            "linecolor": "white",
            "ticks": ""
           }
          },
          "scene": {
           "xaxis": {
            "backgroundcolor": "#E5ECF6",
            "gridcolor": "white",
            "gridwidth": 2,
            "linecolor": "white",
            "showbackground": true,
            "ticks": "",
            "zerolinecolor": "white"
           },
           "yaxis": {
            "backgroundcolor": "#E5ECF6",
            "gridcolor": "white",
            "gridwidth": 2,
            "linecolor": "white",
            "showbackground": true,
            "ticks": "",
            "zerolinecolor": "white"
           },
           "zaxis": {
            "backgroundcolor": "#E5ECF6",
            "gridcolor": "white",
            "gridwidth": 2,
            "linecolor": "white",
            "showbackground": true,
            "ticks": "",
            "zerolinecolor": "white"
           }
          },
          "shapedefaults": {
           "line": {
            "color": "#2a3f5f"
           }
          },
          "ternary": {
           "aaxis": {
            "gridcolor": "white",
            "linecolor": "white",
            "ticks": ""
           },
           "baxis": {
            "gridcolor": "white",
            "linecolor": "white",
            "ticks": ""
           },
           "bgcolor": "#E5ECF6",
           "caxis": {
            "gridcolor": "white",
            "linecolor": "white",
            "ticks": ""
           }
          },
          "title": {
           "x": 0.05
          },
          "xaxis": {
           "automargin": true,
           "gridcolor": "white",
           "linecolor": "white",
           "ticks": "",
           "title": {
            "standoff": 15
           },
           "zerolinecolor": "white",
           "zerolinewidth": 2
          },
          "yaxis": {
           "automargin": true,
           "gridcolor": "white",
           "linecolor": "white",
           "ticks": "",
           "title": {
            "standoff": 15
           },
           "zerolinecolor": "white",
           "zerolinewidth": 2
          }
         }
        },
        "title": {
         "text": "Correlation between COVID cases and Fifa World Ranking"
        },
        "xaxis": {
         "anchor": "y",
         "domain": [
          0,
          0.94
         ]
        },
        "yaxis": {
         "anchor": "x",
         "domain": [
          0,
          1
         ],
         "title": {
          "text": "<b>COVID cases</b>"
         }
        },
        "yaxis2": {
         "anchor": "x",
         "overlaying": "y",
         "side": "right",
         "title": {
          "text": "<b>Rank</b>"
         }
        }
       }
      }
     },
     "metadata": {},
     "output_type": "display_data"
    }
   ],
   "source": [
    "import plotly.graph_objects as go\n",
    "from plotly.subplots import make_subplots\n",
    "\n",
    "# Create figure with secondary y-axis\n",
    "fig = make_subplots(specs=[[{\"secondary_y\": True}]])\n",
    "\n",
    "# Add traces\n",
    "fig.add_trace(\n",
    "go.Scatter(x=final_df['country_abrv'], y=final_df['total_cases'], name=\"Total COVID cases on 09-04-2020\", mode='markers'),\n",
    "secondary_y=False,\n",
    ")\n",
    "\n",
    "fig.add_trace(\n",
    "    go.Scatter(x=final_df['country_abrv'], y=final_df['rank'], name=\"Fifa World Rank on 09-04-2020\",mode='markers'),\n",
    "    secondary_y=True,\n",
    ")\n",
    "# Add figure title\n",
    "fig.update_layout(\n",
    "    title_text=\"Correlation between COVID cases and Fifa World Ranking\"\n",
    ")\n",
    "\n",
    "# Set y-axes titles\n",
    "fig.update_yaxes(title_text=\"<b>COVID cases</b>\", secondary_y=False)\n",
    "fig.update_yaxes(title_text=\"<b>Rank</b>\", secondary_y=True)\n",
    "# fig.update_yaxes(autorange=\"reversed\")\n",
    "fig.show()\n",
    "\n"
   ]
  },
  {
   "cell_type": "code",
   "execution_count": null,
   "metadata": {},
   "outputs": [],
   "source": []
  }
 ],
 "metadata": {
  "kernelspec": {
   "display_name": "Python 3.8.10 64-bit",
   "language": "python",
   "name": "python3"
  },
  "language_info": {
   "codemirror_mode": {
    "name": "ipython",
    "version": 3
   },
   "file_extension": ".py",
   "mimetype": "text/x-python",
   "name": "python",
   "nbconvert_exporter": "python",
   "pygments_lexer": "ipython3",
   "version": "3.8.10"
  },
  "orig_nbformat": 4,
  "vscode": {
   "interpreter": {
    "hash": "916dbcbb3f70747c44a77c7bcd40155683ae19c65e1c03b4aa3499c5328201f1"
   }
  }
 },
 "nbformat": 4,
 "nbformat_minor": 2
}
